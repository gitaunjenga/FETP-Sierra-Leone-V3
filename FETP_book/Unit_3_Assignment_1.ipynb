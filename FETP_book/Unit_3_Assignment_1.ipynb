{
 "cells": [
  {
   "cell_type": "markdown",
   "metadata": {
    "tags": [],
    "user_expressions": []
   },
   "source": [
    "# Assignment 1"
   ]
  },
  {
   "cell_type": "markdown",
   "metadata": {},
   "source": [
    "Following your surveillance summary report on the recent measles outbreak, your supervisor indicates that resources may be available to support your proposed investigation. Before beginning your investigation, your supervisor would like to see your data analysis plan. In addition, he shared several questions that he wants the plan to answer. \n"
   ]
  },
  {
   "cell_type": "markdown",
   "metadata": {},
   "source": [
    "**Review your data analysis plan:**"
   ]
  },
  {
   "cell_type": "markdown",
   "metadata": {},
   "source": [
    "---"
   ]
  },
  {
   "cell_type": "markdown",
   "metadata": {},
   "source": [
    "### Measles Outbreak Investigation Data Analysis Plan\n",
    "\n",
    "#### Investigation Objective(s): \n",
    "- Describe the measles outbreak by person, place, time.\n",
    "- Describe the risk factors.\n",
    "\n",
    "#### Variables:\n",
    "- **Age**, **Sex**, **Occupation**\n",
    "- **Clinical**: Symptoms, Date of onset of symptoms, Outcome/status (alive/dead)\n",
    "- **Laboratory**: Test results\n",
    "- **Confirmation status**\n",
    "- **Vaccination status**, Number of doses\n",
    "- **Residence** (district, village), Health facility/organization unit\n",
    "- **Travel history** (date and location)\n",
    "\n",
    "#### Data Sources:\n",
    "- **Surveillance data**\n",
    "- **Clinical**\n",
    "- **Immunization**\n",
    "- **Laboratory**\n",
    "- **Census**\n",
    "\n",
    "\n",
    "\n",
    "#### Table 1: General Characteristics of cases (by person)\n",
    "\n",
    "|            | **Number** | **Percent** |\n",
    "|------------|------------|-------------|\n",
    "| **Age**    |            |             |\n",
    "| **Occupation** |        |             |\n",
    "| **# of contacts** |      |             |\n",
    "| **Diagnosis** |          |             |\n",
    "| **Vaccination Status** | |             |\n",
    "| **# of vaccine doses received** | |       |\n",
    "| **Reason for non-vaccination** | |        |\n",
    "\n",
    "\n",
    "#### Table 2: Demographic Characteristics of cases\n",
    "\n",
    "| **Age Group**             | **Probable** | **Confirmed** |\n",
    "|---------------------------|--------------|---------------|\n",
    "| Under 1               |              |               |\n",
    "| 12 months to 23 months |              |               |\n",
    "| 2-5 years**             |              |               |\n",
    "| Above 5 years         |              |               |\n",
    "| Sex                   |              |               |\n",
    "| Male                      |              |               |\n",
    "| Female                    |              |               |\n",
    "\n",
    "\n",
    "\n",
    "#### Table 3: Clinical Characteristics\n",
    "\n",
    "|            |  **Number** |  **Percent**   |\n",
    "|------------|-------------|----------------|\n",
    "| Fever     |             |                |\n",
    "|           |             |                |\n",
    "|            |             |                |\n",
    "\n",
    "(Bar chart or table showing other clinical characteristics)\n",
    "\n",
    "\n",
    "#### Table 4: 2x2 Risk Ratio\n",
    "\n",
    "Calculate the risk ratio and complete the table.\n",
    "\n",
    "|                       | **Sick** | **Not Sick** | **Totals** |\n",
    "|-----------------------|----------|--------------|------------|\n",
    "| **Exposed**           |          |              |            |\n",
    "| **Not Exposed**       |          |              |            |\n",
    "| **Totals**            |          |              |            |\n",
    "\n",
    "- **P value**\n",
    "- **Confidence Interval**\n",
    "\n",
    "\n",
    "#### Figure 1: Geographical distribution of cases\n",
    "\n",
    "(Insert figure or map)\n",
    "\n",
    "\n",
    "#### Figure 2: Epi curve by date of onset\n",
    "\n",
    "(Insert Epi curve figure)\n",
    "\n"
   ]
  },
  {
   "cell_type": "markdown",
   "metadata": {},
   "source": [
    "---"
   ]
  },
  {
   "cell_type": "markdown",
   "metadata": {},
   "source": [
    "#### Questions"
   ]
  },
  {
   "cell_type": "markdown",
   "metadata": {},
   "source": [
    "Using your knowledge of Sierra Leone’s HIS context, your data analysis plan, and information on each software application, respond to the following questions:\n"
   ]
  },
  {
   "cell_type": "markdown",
   "metadata": {},
   "source": [
    "1. What additional data and information will you need for your measles outbreak investigation?\n",
    "\n",
    "    - Which existing health information systems in Sierra Leone collect the data you need? Which HIS systems might you use for data analysis and visualization?\n",
    "\n"
   ]
  },
  {
   "cell_type": "markdown",
   "metadata": {},
   "source": [
    "2. Is there any data that you need that is not currently collected by an existing health information system?\n",
    "    - If yes, what data will you need to collect? \n",
    "\n"
   ]
  },
  {
   "cell_type": "markdown",
   "metadata": {},
   "source": [
    "3. How is data from these HIS software applications reported or transmitted? What software applications receive and store this data?\n"
   ]
  },
  {
   "cell_type": "markdown",
   "metadata": {},
   "source": [
    "> Be prepared to share and discuss your responses.\n"
   ]
  },
  {
   "cell_type": "markdown",
   "metadata": {},
   "source": [
    "---"
   ]
  },
  {
   "cell_type": "markdown",
   "metadata": {},
   "source": [
    "> **Please submit your answers using the form provided below**"
   ]
  },
  {
   "cell_type": "markdown",
   "metadata": {},
   "source": [
    "<iframe class=\"form\" width=\"640px\" height=\"480px\"\n",
    "        src=\"https://docs.google.com/forms/d/e/1FAIpQLSdr2BAVCasDP19LzcyflI_-Dh6vV0cXIkIeZjqtT0MYROZQZw/viewform?embedded=true\"\n",
    "        allowfullscreen></iframe>"
   ]
  },
  {
   "cell_type": "markdown",
   "metadata": {},
   "source": [
    "---"
   ]
  },
  {
   "cell_type": "markdown",
   "metadata": {},
   "source": [
    "#### Resources"
   ]
  },
  {
   "cell_type": "markdown",
   "metadata": {},
   "source": [
    "- [Situational analysis of HIS in Sierra Leone, Sierra Leone Health Information System Policy, December 2021](<https://drive.google.com/drive/folders/16c5WWaa4av1LiCJgj1YN7hlwHyMOkhSr>)\n",
    "- [Community Health Information System (CHIS), National CHW Policy 2021](<>)\n",
    "- [Technical Guidelines for IDSR, Section 11](<https://drive.google.com/drive/folders/16c5WWaa4av1LiCJgj1YN7hlwHyMOkhSr;!!LQC6Cpwp!pSkpC6ISJbFfqwcfslZJ7BuN8v6lLfkzjW9p89ftHMxpewmu9BDC5hzm9yNVy4TXqFxQwVqOa2iKw9CcEsPbBKegeFFXwoJvRkI$>)\n",
    "- DHIS2 Data Dictionary ([data elements](<https://urldefense.com/v3/__https:/docs.google.com/spreadsheets/d/1d0ZII5z_DCTmb8LuiV4oqaKaHmissjVC/edit?usp=drive_web&ouid=108715504237390584810&rtpof=true__;!!LQC6Cpwp!pSkpC6ISJbFfqwcfslZJ7BuN8v6lLfkzjW9p89ftHMxpewmu9BDC5hzm9yNVy4TXqFxQwVqOa2iKw9CcEsPbBKegeFFXgR-Fw1I$>), [options](<https://urldefense.com/v3/__https:/docs.google.com/spreadsheets/d/12yJ6FGxzaQkuzP9Yn-vbtsnYUZzU5Agc/edit?usp=drive_web&ouid=108715504237390584810&rtpof=true__;!!LQC6Cpwp!pSkpC6ISJbFfqwcfslZJ7BuN8v6lLfkzjW9p89ftHMxpewmu9BDC5hzm9yNVy4TXqFxQwVqOa2iKw9CcEsPbBKegeFFXiG19cwE$>), and [option sets for measles](<https://urldefense.com/v3/__https:/docs.google.com/spreadsheets/d/1Ye3VuO82S6pMH6AguM8pLM0YK_U01iOr/edit?usp=drive_web&ouid=108715504237390584810&rtpof=true__;!!LQC6Cpwp!pSkpC6ISJbFfqwcfslZJ7BuN8v6lLfkzjW9p89ftHMxpewmu9BDC5hzm9yNVy4TXqFxQwVqOa2iKw9CcEsPbBKegeFFXt6ibTkI$>))\n",
    "- [DHIS2 Overview](<https://dhis2.org/overview/>), [Data Quality](<https://docs.dhis2.org/en/use/user-guides/dhis-core-version-241/collecting-data/data-quality.html>), [Configuration](<https://docs.dhis2.org/en/use/user-guides/dhis-core-version-241/configuring-the-system/metadata.html>)"
   ]
  }
 ],
 "metadata": {
  "finalized": {
   "timestamp": 1617199748724,
   "trusted": true
  },
  "kernelspec": {
   "display_name": "FETP_venv",
   "language": "python",
   "name": "python3"
  },
  "language_info": {
   "codemirror_mode": {
    "name": "ipython",
    "version": 3
   },
   "file_extension": ".py",
   "mimetype": "text/x-python",
   "name": "python",
   "nbconvert_exporter": "python",
   "pygments_lexer": "ipython3",
   "version": "3.12.4"
  }
 },
 "nbformat": 4,
 "nbformat_minor": 4
}
