{
 "cells": [
  {
   "cell_type": "markdown",
   "metadata": {
    "tags": [],
    "user_expressions": []
   },
   "source": [
    "# Case Study Assignment 1"
   ]
  },
  {
   "cell_type": "markdown",
   "metadata": {},
   "source": [
    "On 25 October 2021, your supervisor received a call from the Chief Medical Officer at the Kukuna Health Center, informing her of a growing number of recent reports of fever and rashes coming from community health care workers within the area. One of your primary responsibilities is to detect outbreaks of fever with rash for investigation. Your supervisor asks you and your team to prepare a summary surveillance report on the current status of measles.\n"
   ]
  },
  {
   "cell_type": "markdown",
   "metadata": {},
   "source": [
    "Your summary surveillance report will need to answer the following key questions:\n",
    "- How many cases were detected? Has the epidemic threshold for measles been crossed?\n",
    "- Where did the cases occur?\n",
    "- Who is affected? \n",
    "- Is the increase due to an outbreak? Is there another explanation for the increase in reported cases? \n",
    "- What action should be taken next? By whom?\n"
   ]
  },
  {
   "cell_type": "markdown",
   "metadata": {},
   "source": [
    "------"
   ]
  },
  {
   "cell_type": "markdown",
   "metadata": {},
   "source": [
    "With your small group, use the next 15 minutes to:\n",
    "\n",
    "- Review the case study introduction\n",
    "- Answer Case Study Part 1 Questions 1 and 2\n",
    "\n",
    "Be prepared to report back on your findings."
   ]
  },
  {
   "cell_type": "markdown",
   "metadata": {},
   "source": [
    "---"
   ]
  },
  {
   "cell_type": "markdown",
   "metadata": {},
   "source": [
    "#### Questions"
   ]
  },
  {
   "cell_type": "markdown",
   "metadata": {},
   "source": [
    "**1. What data will you need in order to prepare your summary surveillance report? What additional information will you need?**"
   ]
  },
  {
   "cell_type": "markdown",
   "metadata": {},
   "source": [
    "**2. Where will you obtain this data and information? How?**"
   ]
  },
  {
   "cell_type": "markdown",
   "metadata": {},
   "source": [
    "---"
   ]
  },
  {
   "cell_type": "markdown",
   "metadata": {},
   "source": [
    "> **Please submit your answers using the form provided below**"
   ]
  },
  {
   "cell_type": "markdown",
   "metadata": {},
   "source": [
    "<iframe class=\"form\" width=\"640px\" height=\"480px\"\n",
    "        src=\"https://docs.google.com/forms/d/e/1FAIpQLSckqb726ZNkLc1XOklmjMCYYSYDsRnFhcaECsLb_9RXOnF9kw/viewform?embedded=true\"\n",
    "        allowfullscreen></iframe>"
   ]
  }
 ],
 "metadata": {
  "finalized": {
   "timestamp": 1617199748724,
   "trusted": true
  },
  "kernelspec": {
   "display_name": "FETP_venv",
   "language": "python",
   "name": "python3"
  },
  "language_info": {
   "codemirror_mode": {
    "name": "ipython",
    "version": 3
   },
   "file_extension": ".py",
   "mimetype": "text/x-python",
   "name": "python",
   "nbconvert_exporter": "python",
   "pygments_lexer": "ipython3",
   "version": "3.12.4"
  }
 },
 "nbformat": 4,
 "nbformat_minor": 4
}
