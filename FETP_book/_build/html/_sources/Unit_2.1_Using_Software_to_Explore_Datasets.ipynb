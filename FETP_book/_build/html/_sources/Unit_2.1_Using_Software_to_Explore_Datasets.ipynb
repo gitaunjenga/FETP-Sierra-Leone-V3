{
 "cells": [
  {
   "cell_type": "markdown",
   "metadata": {
    "tags": [],
    "user_expressions": []
   },
   "source": [
    "# Using Software to Explore Datasets"
   ]
  },
  {
   "cell_type": "markdown",
   "metadata": {},
   "source": [
    "#### Laila’s Laila’s Problem: Getting the data she needs \n"
   ]
  },
  {
   "cell_type": "markdown",
   "metadata": {},
   "source": [
    "Laila’s supervisor gave her an Excel file with a dataset of over 8,500 rows of surveillance data.\n",
    "\n",
    "It includes 35 different variables.\n",
    "\n",
    "Laila does not know if this dataset includes the variables and data she needs.\n",
    "\n",
    "\n",
    "\n",
    "\n",
    "\n"
   ]
  },
  {
   "cell_type": "markdown",
   "metadata": {},
   "source": [
    "<div class=\"admonition\">\n",
    "<div style=\"background-color: #c2c5f2; padding: 0.2em; border-radius: 5px; color: black; display: flex; align-items: center;\">\n",
    "    <i style=\"margin-right: 0.5em;\">🔍</i>\n",
    "    <b>What might cause Laila’s problem?</b>\n",
    "</div>\n",
    "\n",
    "<p>The Excel backup includes all surveillance data for the country for the past five years.</p>\n",
    "\n",
    "</div>"
   ]
  },
  {
   "cell_type": "markdown",
   "metadata": {},
   "source": [
    "#### How Excel is used by epidemiologists"
   ]
  },
  {
   "cell_type": "markdown",
   "metadata": {},
   "source": [
    "Excel databases are organized similar to a line list:\n",
    "- A structured set of data\n",
    "- Organized in table with headers on the top row and related data or values in each column.\n",
    "\n",
    "Easy to use as a database for simple explore, store, manage, and analyze surveillance data\n"
   ]
  },
  {
   "cell_type": "markdown",
   "metadata": {},
   "source": [
    "#### Five Essential Excel Functions"
   ]
  },
  {
   "cell_type": "markdown",
   "metadata": {},
   "source": [
    "- Sort: organizes one or more columns of data in ascending or descending order  \n",
    "\n",
    "- Filter: shows or hides specific data in a list\n",
    "\n",
    "- Count: displays the number of cells in a range containing numbers\n",
    "\n",
    "- Max: displays the largest value in the cell range\n",
    "\n",
    "- Min: displays the smallest value in the cell range\n"
   ]
  },
  {
   "cell_type": "markdown",
   "metadata": {},
   "source": [
    "#### Excel How-To Scribes\n"
   ]
  },
  {
   "cell_type": "markdown",
   "metadata": {},
   "source": [
    "What are Excel How-To Scribes?\n",
    "- These are easy to follow, step by step instructions with screenshots.\n"
   ]
  },
  {
   "cell_type": "markdown",
   "metadata": {},
   "source": [
    "What Excel How-To Scribes are available?"
   ]
  },
  {
   "cell_type": "markdown",
   "metadata": {},
   "source": [
    "- [Make a Working Copy of Your Dataset](https://scribehow.com/shared/Create_a_copy_of_the_dataset_as_a_new_file__C7nao6DfR2OgFA63HVto9Q?referrer=workspace)\n",
    "- [Create a Copy of a Dataset in a New Worksheet](https://scribehow.com/shared/A_guide_to_making_a_copy_of_MS_Excel_worksheet__nFPW3BrmQ5qA3yMZmBIKug?referrer=workspace)\n",
    "- [Sort Data Using a Single Variable](https://scribehow.com/shared/A_guide_to_sorting_data_in_MS_Excel__OdSOUuArSBSRInz4qO6ijw?referrer=workspace)\n",
    "- [Sort Data Using Multiple Variables](https://scribehow.com/shared/A_guide_to_multiple_sorting_in_MS_Excel__NieApI7sQLSM7fcqvGqpjA?referrer=workspace)\n",
    "- [Filter Data](https://scribehow.com/shared/A_guide_to_filtering_data_in_MS_Excel__tz_S8tOWTiaIyII1Qu1Wng?referrer=workspace)\n",
    "- [Use the Count Function in Excel](https://scribehow.com/shared/How_big_is_your_dataset_A_guide_to_counting_rows_in_Excel__U6cLWaK9RvSmt6mz3k99Lw?referrer=workspace)\n",
    "- [Use the Max-Min Function](https://scribehow.com/shared/A_guide_to_estimating_maximum_and_minimum_values_in_Excel_using_MAX_and_MIN_functions__lZiWahgvQJyEbnk45t6MJw?referrer=workspace)\n"
   ]
  }
 ],
 "metadata": {
  "finalized": {
   "timestamp": 1617199748724,
   "trusted": true
  },
  "kernelspec": {
   "display_name": "FETP_venv",
   "language": "python",
   "name": "python3"
  },
  "language_info": {
   "codemirror_mode": {
    "name": "ipython",
    "version": 3
   },
   "file_extension": ".py",
   "mimetype": "text/x-python",
   "name": "python",
   "nbconvert_exporter": "python",
   "pygments_lexer": "ipython3",
   "version": "3.12.4"
  }
 },
 "nbformat": 4,
 "nbformat_minor": 4
}
