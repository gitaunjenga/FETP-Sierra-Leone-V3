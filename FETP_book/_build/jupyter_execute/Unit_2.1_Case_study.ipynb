{
 "cells": [
  {
   "cell_type": "markdown",
   "metadata": {
    "tags": [],
    "user_expressions": []
   },
   "source": [
    "# Case Study: Surveillance"
   ]
  },
  {
   "cell_type": "markdown",
   "metadata": {},
   "source": [
    "### Case Study Context\n"
   ]
  },
  {
   "cell_type": "markdown",
   "metadata": {},
   "source": [
    "On 25 October 2021, your supervisor received a call from the Chief Medical Officer at the Kukuna Health Center, informing her of a growing number of recent reports of fever and rashes coming from community health care workers within the area. One of your primary responsibilities is to detect outbreaks of fever with rash for investigation. \n",
    "\n",
    "Your supervisor asks you and your team to prepare a summary surveillance report on the current status of measles.\n"
   ]
  },
  {
   "cell_type": "markdown",
   "metadata": {},
   "source": [
    "### Context: Sierra Leone IDSR Strategy"
   ]
  },
  {
   "cell_type": "markdown",
   "metadata": {},
   "source": [
    "Approach: Improve public health surveillance and response for priority diseases, conditions and events at community, health facility, district and national levels through the integration and coordination of common surveillance activities and functions.\n",
    "\n",
    "Integration - includes the harmonization of different methods, software, data collection forms, standards and case definitions in order to prevent inconsistent information and maximize efforts among all disease prevention and control programmes and stakeholders.\n",
    "\n",
    "Coordination - involves information sharing, joint planning, monitoring and evaluation to provide accurate, consistent and relevant data and information to policy‐makers and stakeholders at district and national levels.\n",
    "\n",
    "The district level is the hub and focus for integrating surveillance functions.\n"
   ]
  },
  {
   "cell_type": "markdown",
   "metadata": {},
   "source": [
    "### District Activities and Responsibilities"
   ]
  },
  {
   "cell_type": "markdown",
   "metadata": {},
   "source": [
    "You recently arrived in Sierra Leone and have been assigned to one of three District Health Management Teams."
   ]
  },
  {
   "cell_type": "markdown",
   "metadata": {},
   "source": [
    "At the district level, you and your team’s responsibilities include:\n",
    "- Collecting and aggregating surveillance data from health facilities and the community\n",
    "- Reviewing the quality of surveillance data\n",
    "- Analyzing data by time, place, and person\n",
    "- Updating graphs, tables, and charts to describe reported diseases, conditions, and events on a weekly basis\n",
    "- Comparing data and make conclusions about trends and thresholds\n",
    "- Reporting data on time to the province/regional surveillance officer\n"
   ]
  },
  {
   "cell_type": "markdown",
   "metadata": {},
   "source": [
    "### Sierra Leone: Priority diseases, conditions, and events "
   ]
  },
  {
   "cell_type": "markdown",
   "metadata": {},
   "source": [
    "![fishy](images/sl_diseases.png)"
   ]
  },
  {
   "cell_type": "markdown",
   "metadata": {},
   "source": [
    "### Case Study: Informatics and Surveillance System Context\n"
   ]
  },
  {
   "cell_type": "markdown",
   "metadata": {},
   "source": [
    "The application of informatics, specifically electronic tools, is considered a platform for enhancing real-time surveillance, facilitating prevention, prediction, detection, reporting, and response. "
   ]
  },
  {
   "cell_type": "markdown",
   "metadata": {},
   "source": [
    "In Sierra Leone, the application of informatics to the existing surveillance system is based on:\n",
    "- standardized interoperable and interconnected information systems used within the national context\n",
    "- rapid collection, analysis, reporting, and use of disease/events data in real-time for the right public health action.\n"
   ]
  },
  {
   "cell_type": "markdown",
   "metadata": {},
   "source": [
    "### Resources: Sierra Leone eIDSR and HIS Strategies"
   ]
  },
  {
   "cell_type": "markdown",
   "metadata": {},
   "source": [
    "The following resources describe the current eIDSR and HIS context, strategies, and policies:\n",
    "- [Technical Guidelines for IDSR, Section 11](<https://urldefense.com/v3/__https:/drive.google.com/drive/folders/12T1JB4VBgr-L_e8W5uJ7LKefmvOx3y7I__;!!LQC6Cpwp!pSkpC6ISJbFfqwcfslZJ7BuN8v6lLfkzjW9p89ftHMxpewmu9BDC5hzm9yNVy4TXqFxQwVqOa2iKw9CcEsPbBKegeFFXwoJvRkI$>)\n",
    "- [Situational Analysis of HIS in Sierra Leone, Sierra Leone Health Information System Policy, December 2021](<https://drive.google.com/drive/folders/12T1JB4VBgr-L_e8W5uJ7LKefmvOx3y7I>)\n",
    "- [Community Health Information System (CHIS), National CHW Policy 2021](<https://drive.google.com/drive/folders/12T1JB4VBgr-L_e8W5uJ7LKefmvOx3y7I>)\n",
    "\n"
   ]
  }
 ],
 "metadata": {
  "finalized": {
   "timestamp": 1617199748724,
   "trusted": true
  },
  "kernelspec": {
   "display_name": "FETP_venv",
   "language": "python",
   "name": "python3"
  },
  "language_info": {
   "codemirror_mode": {
    "name": "ipython",
    "version": 3
   },
   "file_extension": ".py",
   "mimetype": "text/x-python",
   "name": "python",
   "nbconvert_exporter": "python",
   "pygments_lexer": "ipython3",
   "version": "3.12.4"
  }
 },
 "nbformat": 4,
 "nbformat_minor": 4
}
