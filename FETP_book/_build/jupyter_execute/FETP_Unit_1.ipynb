{
 "cells": [
  {
   "cell_type": "markdown",
   "metadata": {
    "id": "VLG5_RdEplh-"
   },
   "source": [
    "# Unit 1: Introduction to Informatics for FETP"
   ]
  },
  {
   "cell_type": "markdown",
   "metadata": {
    "id": "HfwszheWLJ7N"
   },
   "source": [
    "* Through the FETP Program, countries have increased capacity to prevent,\n",
    "detect, and respond to public health priority issues.\n",
    "* Field epidemiologists’ ability to collect, analyze, interpret, and use data is\n",
    "critical to their everyday work.\n",
    "* Data is becoming increasingly available as technology evolves and\n",
    "transforms country health information systems.\n",
    "* Epidemiologists are faced with the need to rapidly navigate and use an\n",
    "array of evolving digital health tools"
   ]
  },
  {
   "cell_type": "markdown",
   "metadata": {
    "id": "7Fs6wtx0LwFj"
   },
   "source": [
    "Field epidemiologists will be capable of\n",
    "applying informatics principles,\n",
    "systems, and tools to public health\n",
    "surveillance, outbreak investigations,\n",
    "and public health action."
   ]
  },
  {
   "cell_type": "markdown",
   "metadata": {
    "id": "pBCvJSJip4ql"
   },
   "source": [
    "## 1.1 Learning Objectives"
   ]
  },
  {
   "cell_type": "markdown",
   "metadata": {
    "id": "KhXo4NmWL7Xx"
   },
   "source": [
    "\n",
    "\n",
    "*   Describe how key informatics principles, systems, and tools can improve public health surveillance and outbreak investigations.\n",
    "*   Explain how the transformation of raw data to meaningful information, knowledge, and wisdom necessary supports data-driven action.\n",
    "*   Match your country’s health information system landscape and current\n",
    "trends to surveillance system components.\n",
    "\n"
   ]
  },
  {
   "cell_type": "markdown",
   "metadata": {
    "id": "Q7Qg1XFeSmDb"
   },
   "source": [
    "---"
   ]
  },
  {
   "cell_type": "markdown",
   "metadata": {
    "id": "p5B3q_uWSmDb"
   },
   "source": [
    "## 1.2 Unit Slides"
   ]
  },
  {
   "cell_type": "code",
   "execution_count": 1,
   "metadata": {
    "colab": {
     "base_uri": "https://localhost:8080/",
     "height": 471
    },
    "id": "arCy1R8nbZPb",
    "outputId": "76bb93a1-bb33-4327-98c7-344449c85517"
   },
   "outputs": [
    {
     "data": {
      "text/html": [
       "\n",
       "        <iframe\n",
       "            width=\"800\"\n",
       "            height=\"450\"\n",
       "            src=\"https://drive.google.com/file/d/1fMH_U9sGqUJfT_cA85OC_SpUKJ_hqxyV/preview\"\n",
       "            frameborder=\"0\"\n",
       "            allowfullscreen\n",
       "            \n",
       "        ></iframe>\n",
       "        "
      ],
      "text/plain": [
       "<IPython.lib.display.IFrame at 0x1060dac00>"
      ]
     },
     "execution_count": 1,
     "metadata": {},
     "output_type": "execute_result"
    }
   ],
   "source": [
    "from IPython.display import IFrame\n",
    "\n",
    "# Use the viewer link to embed the PDF\n",
    "IFrame('https://drive.google.com/file/d/1fMH_U9sGqUJfT_cA85OC_SpUKJ_hqxyV/preview', width=800, height=450)"
   ]
  },
  {
   "cell_type": "markdown",
   "metadata": {
    "id": "2OsQPd4Zmji7"
   },
   "source": [
    "\n",
    "\n",
    "---\n",
    "\n"
   ]
  },
  {
   "cell_type": "markdown",
   "metadata": {
    "id": "TktowbZiOPCL",
    "jp-MarkdownHeadingCollapsed": true
   },
   "source": [
    "## 1.3 Laila’s Problem: Data Overload"
   ]
  },
  {
   "cell_type": "markdown",
   "metadata": {
    "id": "9FAORDTOOSYG"
   },
   "source": [
    "As a field epidemiologist, Laila is always on the lookout for\n",
    "potential outbreaks."
   ]
  },
  {
   "cell_type": "markdown",
   "metadata": {
    "id": "wHoSDetiOY77"
   },
   "source": [
    "**Her challenge?**"
   ]
  },
  {
   "cell_type": "markdown",
   "metadata": {
    "id": "Z05vV1B3Oaec"
   },
   "source": [
    "- Laila has a large volume of data coming to her at full speed from a\n",
    "wide variety of sources.\n",
    "- Locating, cleaning, and transforming the data she needs into\n",
    "information she can use can be time-consuming. She has many\n",
    "demands on her time."
   ]
  },
  {
   "cell_type": "markdown",
   "metadata": {
    "id": "f7fcGI6-Ompt"
   },
   "source": [
    "**How many of you can relate to this same challenge?**"
   ]
  },
  {
   "cell_type": "markdown",
   "metadata": {
    "id": "_graduiZOowk"
   },
   "source": [
    "**How are you solving this problem?**"
   ]
  },
  {
   "cell_type": "markdown",
   "metadata": {
    "id": "LKwl2kgYO076"
   },
   "source": [
    "<img src=\"https://drive.google.com/uc?id=1lp7jiftbj2Va-HN6QN6wfPu8GpA0QIde\" alt=\"My Image\" width=\"800\"/>"
   ]
  },
  {
   "cell_type": "markdown",
   "metadata": {
    "id": "Etk3aAL5mfAQ"
   },
   "source": [
    "\n",
    "\n",
    "---\n",
    "\n"
   ]
  },
  {
   "cell_type": "markdown",
   "metadata": {
    "id": "i-Kw1ykJt0Qn"
   },
   "source": [
    "# 2 What is Public Health Informatics?"
   ]
  },
  {
   "cell_type": "markdown",
   "metadata": {
    "id": "c4c8Xcqhj5Ub"
   },
   "source": [
    "<img src=\"https://drive.google.com/uc?id=1yHoX1gRFidMnKgsGWT0yQcGLUhW7B3vB\" alt=\"My Image\" width=\"800\"/>"
   ]
  },
  {
   "cell_type": "markdown",
   "metadata": {
    "id": "jQleT5BruL3I"
   },
   "source": [
    "Public health informatics is the systematic application of information, computer science, and\n",
    "technology in areas of public health, (surveillance, prevention, preparedness, and health promotion)\n",
    "to capture, manage, analyze, disseminate, and use information to improve population-level health\n",
    "outcomes."
   ]
  },
  {
   "cell_type": "markdown",
   "metadata": {
    "id": "hUe_csYzkQ8c"
   },
   "source": [
    "Public health informatics uses information technology to design and run information systems that “package” and securely send public health data to the right people, at the right place, and on time."
   ]
  },
  {
   "cell_type": "markdown",
   "metadata": {
    "id": "e3_ufycvkiIJ"
   },
   "source": [
    "## 2.1 Workforce: What do informaticians do?"
   ]
  },
  {
   "cell_type": "markdown",
   "metadata": {
    "id": "1Jkfy0Xhk5mb"
   },
   "source": [
    "Architects plan buildings with the needs of a community in mind."
   ]
  },
  {
   "cell_type": "markdown",
   "metadata": {
    "id": "XHYmajark-J5"
   },
   "source": [
    "Informaticians plan, maintain, and improve data systems that produce the information public health professionals need to make sound public health decisions."
   ]
  },
  {
   "cell_type": "markdown",
   "metadata": {
    "id": "KuyBWu8NlMQy"
   },
   "source": [
    "<img src=\"https://drive.google.com/uc?id=1JH42e3y9Fjxz6YHWGvXsTRukm67fp-dM\" alt=\"My Image\" width=\"800\"/>"
   ]
  },
  {
   "cell_type": "markdown",
   "metadata": {
    "id": "SLf4uxNMlT1J"
   },
   "source": [
    "**Lets take a minute and watch this video**"
   ]
  },
  {
   "cell_type": "code",
   "execution_count": 2,
   "metadata": {
    "colab": {
     "base_uri": "https://localhost:8080/",
     "height": 421
    },
    "id": "X546deoRlfIb",
    "outputId": "334ab093-da32-4771-ff92-a6bafe77f6b8"
   },
   "outputs": [
    {
     "data": {
      "image/jpeg": "[encoded data removed]",
      "text/html": [
       "\n",
       "        <iframe\n",
       "            width=\"800\"\n",
       "            height=\"400\"\n",
       "            src=\"https://www.youtube.com/embed/fLUygA8Hpfo\"\n",
       "            frameborder=\"0\"\n",
       "            allowfullscreen\n",
       "            \n",
       "        ></iframe>\n",
       "        "
      ],
      "text/plain": [
       "<IPython.lib.display.YouTubeVideo at 0x1061e5eb0>"
      ]
     },
     "execution_count": 2,
     "metadata": {},
     "output_type": "execute_result"
    }
   ],
   "source": [
    "from IPython.display import YouTubeVideo\n",
    "\n",
    "YouTubeVideo('fLUygA8Hpfo', width=800, height=400)"
   ]
  },
  {
   "cell_type": "markdown",
   "metadata": {
    "id": "wI8Fg7VylxEk"
   },
   "source": [
    "\n",
    "\n",
    "---\n",
    "\n"
   ]
  },
  {
   "cell_type": "markdown",
   "metadata": {
    "id": "DcpVrHfNuauK"
   },
   "source": [
    "# 3 Transforming Data into Wisdom"
   ]
  },
  {
   "cell_type": "markdown",
   "metadata": {
    "id": "qOTkthAtyais"
   },
   "source": [
    "<img src=\"https://drive.google.com/uc?id=1sdTujihwDDiKR0ZJaL6ryLaq1X-1Ies6\" alt=\"My Image\" height = \"400\" width=\"500\"/>"
   ]
  },
  {
   "cell_type": "markdown",
   "metadata": {
    "id": "dxNtGfkdygpD"
   },
   "source": [
    "**Wisdom**: the ability to make well-informed decisions and take\n",
    "effective actions based on understanding of the underlying\n",
    "knowledge"
   ]
  },
  {
   "cell_type": "markdown",
   "metadata": {
    "id": "eZ5HiwNkyjlX"
   },
   "source": [
    "**Knowledge**: analyzed and interpreted information to\n",
    "uncover patterns, trends & relationships. Uncovers “how”\n",
    "and “why.”"
   ]
  },
  {
   "cell_type": "markdown",
   "metadata": {
    "id": "Uh2sich7ypWf"
   },
   "source": [
    "**Information**: organized, structure and contexualized\n",
    "data. Answers “person,” “place,” and “time.”"
   ]
  },
  {
   "cell_type": "markdown",
   "metadata": {
    "id": "F7rhIM8Myrsm"
   },
   "source": [
    "**Data**: raw unprocessed facts and figures. Holds\n",
    "limited value in isolation."
   ]
  },
  {
   "cell_type": "markdown",
   "metadata": {
    "id": "2ulyLeHB8XIl"
   },
   "source": [
    "\n",
    "\n",
    "---\n",
    "\n"
   ]
  },
  {
   "cell_type": "markdown",
   "metadata": {
    "id": "YmEwUkxv8Kjt"
   },
   "source": [
    "## 3.1 Public Health Surveillance + Information Value Cycle"
   ]
  },
  {
   "cell_type": "markdown",
   "metadata": {
    "id": "d0SbnhJvSmDe"
   },
   "source": [
    "<img src=\"https://drive.google.com/uc?id=1_ksiZ0RMpLgHFnxNay_WODXDZTRU39pB\" alt=\"My Image\" width=\"800\"/>"
   ]
  },
  {
   "cell_type": "markdown",
   "metadata": {
    "id": "eD_e1kUtm4QJ"
   },
   "source": [
    "# 4 Informatics Principles"
   ]
  },
  {
   "cell_type": "markdown",
   "metadata": {
    "id": "xVE2s99TSmDe"
   },
   "source": [
    "<div style=\"display: flex; align-items: flex-start;\">\n",
    "  <img src=\"https://drive.google.com/uc?id=1O7-oJefmWMCD5Wsra5xqi1d425NGtsov\" width=750 height=450/>\n",
    "  <div style=\"flex: 1;\">\n",
    "    <p style=\"font-size: 39px;\">By strategically applying\n",
    "    informatics principles,\n",
    "    systems and tools, we use\n",
    "    evidence to solve public\n",
    "    health problems in our\n",
    "    current, existing\n",
    "    ecosystem and improve\n",
    "    health outcomes.</p>\n",
    "  </div>\n",
    "</div>"
   ]
  },
  {
   "cell_type": "markdown",
   "metadata": {
    "id": "iLSPuU_5niHB"
   },
   "source": [
    "**Digital ecosystems are defined by:**"
   ]
  },
  {
   "cell_type": "markdown",
   "metadata": {
    "id": "gEsO01oRnkFd"
   },
   "source": [
    "- Culture, gender and social norms,\n",
    "- Political environment, economy, technology\n",
    "infrastructure and\n",
    "- Other factors that can affect an individual’s\n",
    "ability to access and use a technology"
   ]
  },
  {
   "cell_type": "markdown",
   "metadata": {
    "id": "kr9jQeHinwng"
   },
   "source": [
    "Understanding the existing digital ecosystem can help determine if and how epidemiologists should:\n",
    "\n",
    "- Engage with and adapt existing informatics solutions.\n",
    "- Support local informaticians and actors taking action to tackle key challenges"
   ]
  },
  {
   "cell_type": "markdown",
   "metadata": {
    "id": "M-6oAy6RoCAC"
   },
   "source": [
    "This includes understanding existing:\n",
    "\n",
    "- Access to devices, connectivity, affordability,\n",
    "digital literacy, and capacity strengthening\n",
    "opportunities so that initiatives are designed to\n",
    "accommodate or strengthen these realities.\n",
    "- Government policies, national visions, sector\n",
    "policies/priorities/strategies, and efforts to\n",
    "expand foundational digital public infrastructure"
   ]
  },
  {
   "cell_type": "markdown",
   "metadata": {
    "id": "zIWI19cLoKne"
   },
   "source": [
    "**How would you describe your current access to technology and connectivity in your work setting? Is it affordable? For whom?**"
   ]
  },
  {
   "cell_type": "markdown",
   "metadata": {
    "id": "AOVMUhS38dO-"
   },
   "source": [
    "\n",
    "\n",
    "---\n",
    "\n"
   ]
  },
  {
   "cell_type": "markdown",
   "metadata": {
    "id": "QJlK6Me_SmDj"
   },
   "source": [
    "## 4.1 Additional Materials"
   ]
  },
  {
   "cell_type": "markdown",
   "metadata": {
    "id": "E53ugClVSmDj"
   },
   "source": [
    "**This collection of video resources offers an in-depth look at public health informatics.**"
   ]
  },
  {
   "cell_type": "markdown",
   "metadata": {
    "id": "XqUBKkLwSmDj"
   },
   "source": [
    "Here is what the video covers:\n",
    "- Importance of informatics to the public health mission\n",
    "- Role of informatician in public health practice.\n",
    "- Differentiate between public health informatics and information technology."
   ]
  },
  {
   "cell_type": "code",
   "execution_count": 3,
   "metadata": {
    "id": "alVJ3Em0SmDj",
    "outputId": "4d561ada-db8e-4249-d9d7-5e2cc94d27dd"
   },
   "outputs": [
    {
     "data": {
      "image/jpeg": "[encoded data removed]",
      "text/html": [
       "\n",
       "        <iframe\n",
       "            width=\"800\"\n",
       "            height=\"400\"\n",
       "            src=\"https://www.youtube.com/embed/Fzc3j8QG_Mw\"\n",
       "            frameborder=\"0\"\n",
       "            allowfullscreen\n",
       "            \n",
       "        ></iframe>\n",
       "        "
      ],
      "text/plain": [
       "<IPython.lib.display.YouTubeVideo at 0x1061fc110>"
      ]
     },
     "execution_count": 3,
     "metadata": {},
     "output_type": "execute_result"
    }
   ],
   "source": [
    "from IPython.display import YouTubeVideo\n",
    "\n",
    "YouTubeVideo('Fzc3j8QG_Mw', width=800, height=400)"
   ]
  },
  {
   "cell_type": "code",
   "execution_count": 4,
   "metadata": {
    "id": "7VkNGIFNSmDj",
    "outputId": "432c42e3-5be4-4882-90e7-84e4370b3117"
   },
   "outputs": [
    {
     "data": {
      "image/jpeg": "[encoded data removed]",
      "text/html": [
       "\n",
       "        <iframe\n",
       "            width=\"800\"\n",
       "            height=\"400\"\n",
       "            src=\"https://www.youtube.com/embed/KSEUh-wj7Y0\"\n",
       "            frameborder=\"0\"\n",
       "            allowfullscreen\n",
       "            \n",
       "        ></iframe>\n",
       "        "
      ],
      "text/plain": [
       "<IPython.lib.display.YouTubeVideo at 0x1061fc890>"
      ]
     },
     "execution_count": 4,
     "metadata": {},
     "output_type": "execute_result"
    }
   ],
   "source": [
    "from IPython.display import YouTubeVideo\n",
    "\n",
    "YouTubeVideo('KSEUh-wj7Y0', width=800, height=400)"
   ]
  },
  {
   "cell_type": "markdown",
   "metadata": {
    "id": "hlMAcEvaodgJ"
   },
   "source": [
    "# 5 Summary"
   ]
  },
  {
   "cell_type": "markdown",
   "metadata": {
    "id": "SFaww1bbonIu"
   },
   "source": [
    "- Informatics applies relevant information technology to content and processes that help epidemiologists use data to rapidly detect, diagnose, and take action to address public health emergencies.\n",
    "- Informaticians specialize in translating data into information, which allows\n",
    "epidemiologists to apply their knowledge and turn into wisdom to solve epidemiological problems.\n",
    "- By applying informatics to the public health surveillance cycle, epidemiologists can extract greater value from the data available to them.\n",
    "- Applying informatics principles enables epidemiologists to use informatics systems and tools more effectively"
   ]
  },
  {
   "cell_type": "markdown",
   "metadata": {
    "id": "uLXJ-zXSSmDj"
   },
   "source": [
    "# 6  Interactive Knowledge Check"
   ]
  },
  {
   "cell_type": "code",
   "execution_count": 5,
   "metadata": {
    "cellView": "form",
    "id": "K2zuoBydSmDj",
    "outputId": "c60a7171-67eb-41d2-969c-794480bddeed"
   },
   "outputs": [
    {
     "data": {
      "text/html": [
       "\n",
       "        <iframe\n",
       "            width=\"640\"\n",
       "            height=\"500\"\n",
       "            src=\"https://docs.google.com/forms/d/e/1FAIpQLSfQ0jYFbALGUqMfj7VwWDZZ6mpc88e0FRmGJ7Gz0w--M6ReoA/viewform?embedded=true\"\n",
       "            frameborder=\"0\"\n",
       "            allowfullscreen\n",
       "            \n",
       "        ></iframe>\n",
       "        "
      ],
      "text/plain": [
       "<IPython.lib.display.IFrame at 0x1061fc6e0>"
      ]
     },
     "execution_count": 5,
     "metadata": {},
     "output_type": "execute_result"
    }
   ],
   "source": [
    "# @title Default title text\n",
    "from IPython.display import IFrame\n",
    "\n",
    "# Embed your Google Form with the URL from the iframe\n",
    "form_url = \"https://docs.google.com/forms/d/e/1FAIpQLSfQ0jYFbALGUqMfj7VwWDZZ6mpc88e0FRmGJ7Gz0w--M6ReoA/viewform?embedded=true\"\n",
    "\n",
    "# Display the Google Form inside the notebook\n",
    "IFrame(form_url, width=640, height=500)\n"
   ]
  }
 ],
 "metadata": {
  "colab": {
   "provenance": [],
   "toc_visible": true
  },
  "kernelspec": {
   "display_name": "Python 3 (ipykernel)",
   "language": "python",
   "name": "python3"
  },
  "language_info": {
   "codemirror_mode": {
    "name": "ipython",
    "version": 3
   },
   "file_extension": ".py",
   "mimetype": "text/x-python",
   "name": "python",
   "nbconvert_exporter": "python",
   "pygments_lexer": "ipython3",
   "version": "3.12.4"
  }
 },
 "nbformat": 4,
 "nbformat_minor": 0
}