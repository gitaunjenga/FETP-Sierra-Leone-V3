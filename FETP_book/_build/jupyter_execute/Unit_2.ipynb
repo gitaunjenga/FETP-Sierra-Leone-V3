{
 "cells": [
  {
   "cell_type": "markdown",
   "metadata": {
    "tags": [],
    "user_expressions": []
   },
   "source": [
    "# Unit 2: Using Informatics Principles, Systems, and Tools for Surveillance"
   ]
  },
  {
   "cell_type": "markdown",
   "metadata": {},
   "source": [
    "<div class=\"admonition\">\n",
    "<div style=\"background-color: #c2c5f2; padding: 0.2em; border-radius: 5px; color: black; display: flex; align-items: center;\">\n",
    "    <i style=\"margin-right: 0.5em;\">🔍</i>\n",
    "    <b>Laila’s Surveillance Data & Analysis Problems</b>\n",
    "</div>\n",
    "\n",
    "<p>Laila must provide her supervisor with a summary surveillance report on the current status of TB in her district.</p>\n",
    "What gets in her way:\n",
    "<ul>\n",
    "  <li>Data collection and reporting can be unorganized, uncoordinated, and delayed.</li>\n",
    "  <li>Usefulness of the data she has is limited because key variables and data are missing.</li>\n",
    "  <li>Data from different sources is stored in multiple databases that must be merged.</li>\n",
    "  <li>Unclear if the results are due to an actual increase in cases or other factors.</li>\n",
    "</ul>\n",
    "\n",
    "</div>"
   ]
  },
  {
   "cell_type": "markdown",
   "metadata": {},
   "source": [
    "### Goals"
   ]
  },
  {
   "cell_type": "markdown",
   "metadata": {},
   "source": [
    "- Re-use data from existing information systems to detect, diagnose, and respond to outbreaks\n",
    "- Use common software features and functions to explore, describe, and prepare data for analysis\n",
    "- Identify and use software features and functions to detect and address data quality issues\n",
    "- Apply informatics standards and software features to organize and analyze surveillance data\n",
    "- Use basic data visualization and reporting features to prepare a surveillance summary report."
   ]
  },
  {
   "cell_type": "markdown",
   "metadata": {},
   "source": [
    "### Unit Slides"
   ]
  },
  {
   "cell_type": "markdown",
   "metadata": {},
   "source": [
    "<iframe class=\"slides\" width=\"800px\" height=\"480px\"\n",
    "        src=\"https://docs.google.com/presentation/d/1KLr7TaHKI5WDhKlt4tu0fO6NmDEwIS_N/embed?start=false&loop=false&delayms=3000\" frameborder=\"0\" width=\"100%\" height=\"500\" allowfullscreen=\"true\" mozallowfullscreen=\"true\" webkitallowfullscreen=\"true\"></iframe>"
   ]
  },
  {
   "cell_type": "markdown",
   "metadata": {},
   "source": [
    "### Case Study Assignment "
   ]
  },
  {
   "cell_type": "markdown",
   "metadata": {},
   "source": [
    "Your report will need to answer the following key questions:\n",
    "- How many cases were detected? Has the epidemic threshold for measles been crossed?\n",
    "- Where did the cases occur?\n",
    "- Who is affected? \n",
    "- Is the increase due to an outbreak? Is there another explanation for the increase in reported cases?"
   ]
  }
 ],
 "metadata": {
  "finalized": {
   "timestamp": 1617199748724,
   "trusted": true
  },
  "kernelspec": {
   "display_name": "FETP_venv",
   "language": "python",
   "name": "python3"
  },
  "language_info": {
   "codemirror_mode": {
    "name": "ipython",
    "version": 3
   },
   "file_extension": ".py",
   "mimetype": "text/x-python",
   "name": "python",
   "nbconvert_exporter": "python",
   "pygments_lexer": "ipython3",
   "version": "3.12.4"
  }
 },
 "nbformat": 4,
 "nbformat_minor": 4
}