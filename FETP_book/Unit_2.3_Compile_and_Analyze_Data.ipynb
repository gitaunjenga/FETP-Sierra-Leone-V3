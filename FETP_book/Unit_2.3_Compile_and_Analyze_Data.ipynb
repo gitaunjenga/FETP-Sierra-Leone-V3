{
 "cells": [
  {
   "cell_type": "markdown",
   "metadata": {
    "tags": [],
    "user_expressions": []
   },
   "source": [
    "# Compile and Analyze Surveillance Data"
   ]
  },
  {
   "cell_type": "markdown",
   "metadata": {},
   "source": [
    "![fishy](images/laila_2.3.png)"
   ]
  },
  {
   "cell_type": "markdown",
   "metadata": {},
   "source": [
    "#### Learning Objectives\n",
    "\n",
    "- Use software features and functions to analyze surveillance data by person, place, and time by creating descriptive tables, histograms, and maps.\n",
    "- Demonstrate how informatics tools are used to compare observed data to data from previous time periods.\n",
    "- Use basic software features and functions to create a surveillance summary report\n"
   ]
  },
  {
   "cell_type": "markdown",
   "metadata": {},
   "source": [
    "### Laila’s Information Needs \n"
   ]
  },
  {
   "cell_type": "markdown",
   "metadata": {},
   "source": [
    "- Person\n",
    "    - unique identifier\n",
    "    - age \n",
    "    - sex \n",
    "    - outcome/status at time of report\n",
    "    - signs and symptoms\n",
    "    - laboratory result\n",
    "- Place\n",
    "    - health facility \n",
    "    - district\n",
    "    - district of residence\n",
    "- Time\n",
    "    - date HF notified\n",
    "    -date of onset\n"
   ]
  },
  {
   "cell_type": "markdown",
   "metadata": {},
   "source": [
    "1. What data does Laila have?\n",
    "2. What data does she still need?\n",
    "3. What HIS systems generate this data? Where is it stored?"
   ]
  },
  {
   "cell_type": "markdown",
   "metadata": {},
   "source": [
    "### Laila’s Problem and Its Causes"
   ]
  },
  {
   "cell_type": "markdown",
   "metadata": {},
   "source": [
    "Problem\n",
    "- Different types of data from different sources are stored in multiple databases that must be merged.\n"
   ]
  },
  {
   "cell_type": "markdown",
   "metadata": {},
   "source": [
    "Causes\n",
    "- Multiple, uncoordinated HIS systems are used to process public health data\n",
    "- Some HIS systems use different identifiers.\n"
   ]
  },
  {
   "cell_type": "markdown",
   "metadata": {},
   "source": [
    "#### Decisions and Actions Laila Can Take\n"
   ]
  },
  {
   "cell_type": "markdown",
   "metadata": {},
   "source": [
    "- Use datasets and data dictionaries from existing, shared databases at the district and national levels\n",
    "- Use unique identifiers and other demographic variables to match cases across datasets\n",
    "- Identify what software applications and their features and applications to use to merge one or more datasets\n",
    "- Use software features to merge datasets or upload additional data into a district/national database\n"
   ]
  },
  {
   "cell_type": "markdown",
   "metadata": {},
   "source": [
    "### Laila Takes Action"
   ]
  },
  {
   "cell_type": "markdown",
   "metadata": {},
   "source": [
    "After following up with the district data manager, she now has a dataset with TB clinical data from the health facilities in the district. She is still waiting for data from the laboratory.\n"
   ]
  },
  {
   "cell_type": "markdown",
   "metadata": {},
   "source": [
    "Laila uses Excel to sort the clinical dataset by unique patient identifier. Her notification dataset includes a unique case identifier. Both datasets include the patient age, sex, and date of onset. \n"
   ]
  },
  {
   "cell_type": "markdown",
   "metadata": {},
   "source": [
    "Laila can use Excel to organize the two datasets and merge them together. From there, Laila can use Excel to review her merged dataset and resolve any new data quality issues.\n"
   ]
  },
  {
   "cell_type": "markdown",
   "metadata": {},
   "source": [
    "### Why merge datasets?\n"
   ]
  },
  {
   "cell_type": "markdown",
   "metadata": {},
   "source": [
    "- Merging datasets combined two or more different datasets, creating a “wider” combined dataset. \n",
    "- Each data source may store its data in its own database. To conduct your analysis, data from these sources must be stored in a single database.\n"
   ]
  },
  {
   "cell_type": "markdown",
   "metadata": {},
   "source": [
    "### Actions to take before merging datasets"
   ]
  },
  {
   "cell_type": "markdown",
   "metadata": {},
   "source": [
    "- Check data quality and address any issues.\n",
    "- Check that each dataset is structured, formatted, and organized the same way. \n",
    "- Identify which fields are common to both datasets (Case ID, Date seen at HF/Community, Age, Sex, Date of Onset)\n",
    "- Check that the values in both datasets align. \n",
    "- Check if you need to add columns (widening your dataset) or add rows (lengthening your dataset)\n"
   ]
  },
  {
   "cell_type": "markdown",
   "metadata": {},
   "source": [
    "### When to widen a dataset"
   ]
  },
  {
   "cell_type": "markdown",
   "metadata": {},
   "source": [
    "- A wide format has one case per row and one variable per column\n",
    "- Widen your dataset when you want to add rows or variables\n",
    "- Most useful for data exploration and display purposes\n"
   ]
  },
  {
   "cell_type": "markdown",
   "metadata": {},
   "source": [
    "### When to lengthen a dataset"
   ]
  },
  {
   "cell_type": "markdown",
   "metadata": {},
   "source": [
    "- A long format has one row per time period (day/week/month)\n",
    "- Lengthen your dataset when you need to add one or more variables to each case\n",
    "- Most useful for processing, analysis, modeling, and data transformation"
   ]
  },
  {
   "cell_type": "markdown",
   "metadata": {},
   "source": [
    "### Example: Yellow Fever Datasets\n"
   ]
  },
  {
   "cell_type": "markdown",
   "metadata": {},
   "source": [
    "Yellow fever suspected case definition: Any person with **acute onset of fever, with jaundice appearing within 14 days of onset** of the first symptoms.\n"
   ]
  },
  {
   "cell_type": "markdown",
   "metadata": {},
   "source": [
    "Yellow Fever Case Notification Data"
   ]
  },
  {
   "cell_type": "markdown",
   "metadata": {},
   "source": [
    "| Case ID    | Health Facility              | Date Seen at HF/Community | Age | Sex   | Date of Onset |\n",
    "|------------|------------------------------|---------------------------|-----|-------|---------------|\n",
    "| NMC002815  | Kambia Government Hospital   | 2023-08-16                | 16  | MALE  | 2023-08-11    |\n",
    "| NMC048650  | Connaught Hospital           | 2023-11-13                | 55  | MALE  | 2023-11-04    |\n",
    "| NMC059540  | Kambia Government Hospital   | 2023-12-28                | 16  | MALE  | 2023-12-20    |\n",
    "| NMC065919  | Mayakie MCHP                 | 2023-07-27                | 6    | FEMALE| 2023-07-20    |\n",
    "| NMC092898  | Foredugu MCHP                | 2023-11-15                | 4    | FEMALE| 2023-11-15    |\n",
    "| NMC132107  | Rokupr CHC                   | 2023-08-06                | 40  | MALE  | 2023-07-28    |\n",
    "| NMC144004  | Connaught Hospital           | 2023-09-10                | 25  | MALE  |               |\n"
   ]
  },
  {
   "cell_type": "markdown",
   "metadata": {},
   "source": [
    "### Adding Demographic and Clinical Data"
   ]
  },
  {
   "cell_type": "markdown",
   "metadata": {},
   "source": [
    "Case Notification Data"
   ]
  },
  {
   "cell_type": "markdown",
   "metadata": {},
   "source": [
    "| Case ID    | Health Facility              | Date Seen at HF/Community | Age | Sex   | Date of Onset |\n",
    "|------------|------------------------------|---------------------------|-----|-------|---------------|\n",
    "| NMC002815  | Kambia Government Hospital   | 2023-08-16                | 16  | MALE  | 2023-08-11    |\n",
    "| NMC048650  | Connaught Hospital           | 2023-11-13                | 55  | MALE  | 2023-11-04    |\n",
    "| NMC059540  | Kambia Government Hospital   | 2023-12-28                | 16  | MALE  | 2023-12-20    |\n",
    "| NMC065919  | Mayakie MCHP                 | 2023-07-27                | 16  | FEMALE| 2023-07-20    |\n",
    "| NMC092898  | Foreduqu MCHP                | 2023-11-15                | 4   | FEMALE| 2023-11-15    |\n",
    "| NMC132107  | Rokupr CHC                   | 2023-08-06                | 40  | MALE  | 2023-07-28    |\n",
    "| NMC144004  | Connaught Hospital           | 2023-09-10                | 25  | MALE  |               |\n"
   ]
  },
  {
   "cell_type": "markdown",
   "metadata": {
    "vscode": {
     "languageId": "plaintext"
    }
   },
   "source": [
    "Clinical Data from Patient Record"
   ]
  },
  {
   "cell_type": "markdown",
   "metadata": {},
   "source": [
    "| Case ID    | Visit Date | Age | Sex    | History of Fever | Jaundice | Date of Onset of Fever | Onset Date | Date of First Appearance of Jaundice |\n",
    "|------------|------------|-----|--------|------------------|----------|------------------------|------------|---------------------------------------|\n",
    "| NMC002815  | 08/16/23   |     | MALE   | Y                | Y        | 08/11/23               | 08/09/23   | 08/11/23                              |\n",
    "| NMC048650  | 11/13/23   |     | MALE   |                  |          | 11/04/23               |            |                                       |\n",
    "| NMC059540  | 12/28/23   |     | MALE   | Y                | Y        | 12/20/23               | 12/20/23   | 12/23/23                              |\n",
    "| NMC065919  | 07/27/23   |     | FEMALE | Y                | Y        | 07/20/23               | 07/20/23   | 07/24/23                              |\n",
    "| NMC092898  | 11/15/23   |     | FEMALE | Y                | Y        | 11/15/23               | 11/15/23   | 11/15/23                              |\n",
    "| NMC132107  | 08/06/23   |     | MALE   | Y                | Y        | 07/28/23               | 07/28/23   | 07/31/23                              |\n",
    "| NMC144004  | 09/10/23   |     | MALE   | Y                | Y        | 08/29/23               | 09/05/23   | 03/07/23                              |\n",
    "| NMC163917  |            |     | FEMALE | N                | N        |                        |            |                                       |\n"
   ]
  },
  {
   "cell_type": "markdown",
   "metadata": {},
   "source": [
    "### Identify common fields and match rows "
   ]
  },
  {
   "cell_type": "markdown",
   "metadata": {},
   "source": [
    "Individual rows of each dataset must be matched and linked together in the same row.\n"
   ]
  },
  {
   "cell_type": "markdown",
   "metadata": {},
   "source": [
    "Example:"
   ]
  },
  {
   "cell_type": "markdown",
   "metadata": {},
   "source": [
    "![fishy](images/match_rows.png)"
   ]
  },
  {
   "cell_type": "markdown",
   "metadata": {},
   "source": [
    "### Using Excel to merge datasets"
   ]
  },
  {
   "cell_type": "markdown",
   "metadata": {},
   "source": [
    "1. Open the **Notification** dataset in Excel.\n",
    "2. Create a new worksheet for the merged dataset.\n",
    "3. Click on the **Data** tab in the new worksheet.\n",
    "4. Select **Get Data** → **From File** → **From Excel Workbook**.\n",
    "5. Select the **Patient Data** Excel file.\n",
    "6. Launch **Power Query Editor**.\n",
    "7. Select **Merge Queries** and then **Merge Queries as New**.\n",
    "8. Select the **NMC Case Id** column for both datasets.\n",
    "9. Click **OK**.\n",
    "10. Select the columns that you want from the **Patient Dataset**.\n",
    "11. Click **Close and Load** to see the merged dataset in the blank worksheet.\n"
   ]
  },
  {
   "cell_type": "markdown",
   "metadata": {},
   "source": [
    "#### Actions to take AFTER merging datasets\n"
   ]
  },
  {
   "cell_type": "markdown",
   "metadata": {},
   "source": [
    "- Check data quality and address any issues.\n",
    "- Check that your dataset is structured, formatted, and organized for analysis "
   ]
  }
 ],
 "metadata": {
  "finalized": {
   "timestamp": 1617199748724,
   "trusted": true
  },
  "kernelspec": {
   "display_name": "FETP_venv",
   "language": "python",
   "name": "python3"
  },
  "language_info": {
   "codemirror_mode": {
    "name": "ipython",
    "version": 3
   },
   "file_extension": ".py",
   "mimetype": "text/x-python",
   "name": "python",
   "nbconvert_exporter": "python",
   "pygments_lexer": "ipython3",
   "version": "3.12.4"
  }
 },
 "nbformat": 4,
 "nbformat_minor": 4
}
