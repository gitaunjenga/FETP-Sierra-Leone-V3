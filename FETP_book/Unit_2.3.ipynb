{
 "cells": [
  {
   "cell_type": "markdown",
   "metadata": {
    "tags": [],
    "user_expressions": []
   },
   "source": [
    "# Analyzing and visualizing the data using Excel"
   ]
  },
  {
   "cell_type": "markdown",
   "metadata": {},
   "source": [
    "![fishy](images/laila_analyze.png)"
   ]
  },
  {
   "cell_type": "markdown",
   "metadata": {},
   "source": [
    "--- "
   ]
  },
  {
   "cell_type": "markdown",
   "metadata": {},
   "source": [
    "### Decisions and Actions Laila Can Take"
   ]
  },
  {
   "cell_type": "markdown",
   "metadata": {},
   "source": [
    "- Select and perform the appropriate analyses\n",
    "- Use the appropriate software application features or functions to run the calculations or analyses\n",
    "- Use the right software application and its features to create simple and effective visualizations\n"
   ]
  },
  {
   "cell_type": "markdown",
   "metadata": {},
   "source": [
    "#### Tuberculosis: "
   ]
  },
  {
   "cell_type": "markdown",
   "metadata": {},
   "source": [
    "TB surveillance goals \n",
    "- Early detection of people with infectious lung disease to improve chances of clinical improvement and reduce transmission of TB\n",
    "- Improve percentage of TB cases confirmed by microscope\n"
   ]
  },
  {
   "cell_type": "markdown",
   "metadata": {},
   "source": [
    "Analyses\n",
    "- Time: Graph cases and deaths monthly\n",
    "- Place: Plot distribution of case households and workplaces\n",
    "- Person: Count monthly cases and deaths. Analyze age and sex distribution quarterly\n"
   ]
  },
  {
   "cell_type": "markdown",
   "metadata": {},
   "source": [
    "What Excel can do\n",
    "- Calculate the mode, median, mean, and range\n",
    "- Create a histogram or bar chart"
   ]
  },
  {
   "cell_type": "markdown",
   "metadata": {},
   "source": [
    "#### Using Excel to calculate measures \n"
   ]
  },
  {
   "cell_type": "markdown",
   "metadata": {},
   "source": [
    "Measures of central location"
   ]
  },
  {
   "cell_type": "markdown",
   "metadata": {},
   "source": [
    "- Mode\n",
    "- Median\n",
    "- Mean\n"
   ]
  },
  {
   "cell_type": "markdown",
   "metadata": {},
   "source": [
    "Measure of spread\n",
    "- Range"
   ]
  },
  {
   "cell_type": "markdown",
   "metadata": {},
   "source": [
    "Measures of frequency\n",
    "- Counts\n",
    "- Ratios\n",
    "- Proportions\n",
    "- Rates\n"
   ]
  },
  {
   "cell_type": "markdown",
   "metadata": {},
   "source": [
    "Excel Statistical Functions\n",
    "\n",
    "- AVERAGE – produces the mean or average of the cells within a range of cells.\n",
    "- MEDIAN – produces the value closest to the midpoint of the cells within a range.\n",
    "- MIN – displays the smallest value in the cell range.\n",
    "- MAX – displays the largest value in the cell range.\n",
    "- SUM – adds the values of each cell within its range.\n",
    "- COUNT – displays the number of cells in a range containing numbers.\n"
   ]
  },
  {
   "cell_type": "markdown",
   "metadata": {},
   "source": [
    "#### Creating and using data visualizations using Excel"
   ]
  },
  {
   "cell_type": "markdown",
   "metadata": {},
   "source": [
    "Data visualizations can be used to detect patterns, trends, and compare different data points.\n"
   ]
  },
  {
   "cell_type": "markdown",
   "metadata": {},
   "source": [
    "Example: \n",
    "- You want to use an epi curve to display the distribution of cases by date of onset and detect an increase in the frequency of cases, suggesting an outbreak.\n"
   ]
  },
  {
   "cell_type": "markdown",
   "metadata": {},
   "source": [
    "> Using your dataset in Excel, you use the Chart feature to select your data range and generate a histogram.\n"
   ]
  },
  {
   "cell_type": "markdown",
   "metadata": {},
   "source": [
    "---"
   ]
  },
  {
   "cell_type": "markdown",
   "metadata": {},
   "source": [
    "### Resources"
   ]
  },
  {
   "cell_type": "markdown",
   "metadata": {},
   "source": [
    "- [How to Create a New Variable in MS Excel](https://scribehow.com/shared/A_guide_to_creating_numerical_categories_using_IF_and_ISBLANK_functions_in_MS_Excel__ZlERWSTtRfqwtyiZxSYFAg?referrer=workspace)\n",
    "- [How to use an Excel Pivot Table to calculate the percentage of reported cases occurring within a given age group for the entire country](https://scribehow.com/shared/A_guide_to_calculating_number_of_cases_and_percentages_of_cases_using_Pivot_Table_in_Excel__-scoU1OvQfec0zdEWBiuPA?referrer=workspace)\n",
    "- [How to use an Excel Pivot Table to calculate the percentage of reported cases occurring within a given age group for one district](https://scribehow.com/shared/A_guide_to_estimating_the_number_and_percentage_of_cases_by_age_group_and_district_using_filtering_in_Pivot_Table_in_MS_Excel__P83fn0haSFK9SBEekxIsGQ?referrer=workspace)\n",
    "- [How to create an epi curve in MS Excel (Part 1)](https://scribehow.com/shared/A_guide_to_creating_Epidemic_Curve_with_one_day_interval_using_COUNTIF_and_CHART_functions_in_MS_Excel__Step_1__cB2y9yq_Shi-YcBj7sCFog?referrer=workspace)\n",
    "- [How to create an epi curve in MS Excel (Part 2)](https://scribehow.com/shared/A_guide_to_creating_Epidemic_Curve_with_one_day_interval_using_COUNTIF_and_CHART_functions_in_MS_Excel__Step_2__cHkXVNylSU2L7g15NldC6w?referrer=workspace)\n",
    "- [Presentation Template: Surveillance Summary Report](https://docs.google.com/presentation/d/1ahfhP06P9CJGFai81_wVuBU7QjUUj05QrprESgEEu9g/edit#slide=id.g30d90e4d11d_0_73)\n"
   ]
  }
 ],
 "metadata": {
  "finalized": {
   "timestamp": 1617199748724,
   "trusted": true
  },
  "kernelspec": {
   "display_name": "FETP_venv",
   "language": "python",
   "name": "python3"
  },
  "language_info": {
   "codemirror_mode": {
    "name": "ipython",
    "version": 3
   },
   "file_extension": ".py",
   "mimetype": "text/x-python",
   "name": "python",
   "nbconvert_exporter": "python",
   "pygments_lexer": "ipython3",
   "version": "3.12.4"
  }
 },
 "nbformat": 4,
 "nbformat_minor": 4
}
