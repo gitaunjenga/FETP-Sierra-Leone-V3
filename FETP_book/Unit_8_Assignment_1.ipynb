{
  "cells": [
    {
      "cell_type": "markdown",
      "metadata": {
        "id": "VLG5_RdEplh-"
      },
      "source": [
        "# Assignment 1"
      ]
    },
    {
      "cell_type": "markdown",
      "metadata": {},
      "source": [
        "Using your results, you have created some initial visualizations in order to confidently interpret your data. You have also identified specific actions that need to be taken in order to prevent this measles outbreak from spreading and future outbreaks from occurring. \n",
        "\n",
        "Now it is time to share your findings and recommendations with the people who need to take action.\n"
      ]
    },
    {
      "cell_type": "markdown",
      "metadata": {},
      "source": [
        "Begin planning your communication by answering the following questions:"
      ]
    },
    {
      "cell_type": "markdown",
      "metadata": {},
      "source": [
        "---"
      ]
    },
    {
      "cell_type": "markdown",
      "metadata": {},
      "source": [
        "#### Questions"
      ]
    },
    {
      "cell_type": "markdown",
      "metadata": {},
      "source": [
        "1. What audience will you target first?\n",
        "\n",
        "2. Describe your audience. Who are they? What are their information needs?\n",
        "\n",
        "3. What communication channels will be most effective with your audience. Why?"
      ]
    },
    {
      "cell_type": "markdown",
      "metadata": {},
      "source": [
        "---"
      ]
    },
    {
      "cell_type": "markdown",
      "metadata": {},
      "source": [
        "> **Please submit your answers using the form provided below**"
      ]
    },
    {
      "cell_type": "markdown",
      "metadata": {},
      "source": [
        "<iframe class=\"form\" width=\"700px\" height=\"600px\"\n",
        "        src=\"https://docs.google.com/forms/d/e/1FAIpQLSfE5df_kfDC4kRwmCuBncZdS5a9_KD56S2GESUCp3ittip-Rw/viewform?embedded=true\"\n",
        "        allowfullscreen></iframe>"
      ]
    }
  ],
  "metadata": {
    "colab": {
      "provenance": [],
      "toc_visible": true
    },
    "kernelspec": {
      "display_name": "Python 3 (ipykernel)",
      "language": "python",
      "name": "python3"
    },
    "language_info": {
      "codemirror_mode": {
        "name": "ipython",
        "version": 3
      },
      "file_extension": ".py",
      "mimetype": "text/x-python",
      "name": "python",
      "nbconvert_exporter": "python",
      "pygments_lexer": "ipython3",
      "version": "3.12.4"
    }
  },
  "nbformat": 4,
  "nbformat_minor": 0
}
