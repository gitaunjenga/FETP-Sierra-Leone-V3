{
 "cells": [
  {
   "cell_type": "markdown",
   "metadata": {
    "tags": [],
    "user_expressions": []
   },
   "source": [
    "# Case Study Assignment 2"
   ]
  },
  {
   "cell_type": "markdown",
   "metadata": {},
   "source": [
    "The network is down and you are unable to access this data using DHIS2. You discuss options with the district’s data manager and discover that she is able to provide you with a backup copy of the database and the DHIS2 data dictionary that you can open and work with in Excel."
   ]
  },
  {
   "cell_type": "markdown",
   "metadata": {},
   "source": [
    "---"
   ]
  },
  {
   "cell_type": "markdown",
   "metadata": {},
   "source": [
    "Use the next 15 minutes to:\n",
    "\n",
    "- Use Excel and the Excel How-To Scribes to explore your dataset\n",
    "- Answer Question #3\n",
    "\n",
    "Be prepared to show how you arrived at your responses.\n"
   ]
  },
  {
   "cell_type": "markdown",
   "metadata": {},
   "source": [
    "---"
   ]
  },
  {
   "cell_type": "markdown",
   "metadata": {},
   "source": [
    "**Questions** "
   ]
  },
  {
   "cell_type": "markdown",
   "metadata": {},
   "source": [
    "3. Use Excel to explore and get to know this dataset. Describe the dataset provided by the data manager. \n"
   ]
  },
  {
   "cell_type": "markdown",
   "metadata": {},
   "source": [
    "- How big is this dataset?\n",
    "- What timeframe does the dataset span?\n",
    "    - How does this compare to the timeframe you are interested in?\n",
    "- What locations does the dataset include?\n",
    "    - How does this compare to the location(s) that you are interested in?\n",
    "- Who is included in the dataset?\n",
    "    - How does this compare to your population of interest?"
   ]
  },
  {
   "cell_type": "markdown",
   "metadata": {},
   "source": [
    "---"
   ]
  },
  {
   "cell_type": "markdown",
   "metadata": {},
   "source": [
    "> **Please submit your answers using the form provided below**"
   ]
  },
  {
   "cell_type": "markdown",
   "metadata": {},
   "source": [
    "<iframe class=\"form\" width=\"640px\" height=\"480px\"\n",
    "        src=\"https://docs.google.com/forms/d/e/1FAIpQLSeR2fBar_1HbguQffSdkSrZOafa1QhgYp0B-E8XvExG-bDc6A/viewform?embedded=true\"\n",
    "        allowfullscreen></iframe>"
   ]
  },
  {
   "cell_type": "markdown",
   "metadata": {},
   "source": [
    "---"
   ]
  },
  {
   "cell_type": "markdown",
   "metadata": {},
   "source": [
    "#### Resources"
   ]
  },
  {
   "cell_type": "markdown",
   "metadata": {},
   "source": [
    "**Dataset**"
   ]
  },
  {
   "cell_type": "markdown",
   "metadata": {},
   "source": [
    "[2021 Case Notification Data](https://docs.google.com/spreadsheets/d/14zUEHtDbOYY4OR3vkznVY44meF69vmJQjzHQxAgKlCQ/export?format=xlsx)\n"
   ]
  },
  {
   "cell_type": "markdown",
   "metadata": {},
   "source": [
    "**Excel How-To Scribes**\n"
   ]
  },
  {
   "cell_type": "markdown",
   "metadata": {},
   "source": [
    "What are Excel How-To Scribes?\n",
    "- These are easy to follow, step by step instructions with screenshots.\n"
   ]
  },
  {
   "cell_type": "markdown",
   "metadata": {},
   "source": [
    "- [Make a Working Copy of Your Dataset](https://scribehow.com/shared/Create_a_copy_of_the_dataset_as_a_new_file__C7nao6DfR2OgFA63HVto9Q?referrer=workspace)\n",
    "- [Create a Copy of a Dataset in a New Worksheet](https://scribehow.com/shared/A_guide_to_making_a_copy_of_MS_Excel_worksheet__nFPW3BrmQ5qA3yMZmBIKug?referrer=workspace)\n",
    "- [Sort Data Using a Single Variable](https://scribehow.com/shared/A_guide_to_sorting_data_in_MS_Excel__OdSOUuArSBSRInz4qO6ijw?referrer=workspace)\n",
    "- [Sort Data Using Multiple Variables](https://scribehow.com/shared/A_guide_to_multiple_sorting_in_MS_Excel__NieApI7sQLSM7fcqvGqpjA?referrer=workspace)\n",
    "- [Filter Data](https://scribehow.com/shared/A_guide_to_filtering_data_in_MS_Excel__tz_S8tOWTiaIyII1Qu1Wng?referrer=workspace)\n",
    "- [Use the Count Function in Excel](https://scribehow.com/shared/How_big_is_your_dataset_A_guide_to_counting_rows_in_Excel__U6cLWaK9RvSmt6mz3k99Lw?referrer=workspace)\n",
    "- [Use the Max-Min Function](https://scribehow.com/shared/A_guide_to_estimating_maximum_and_minimum_values_in_Excel_using_MAX_and_MIN_functions__lZiWahgvQJyEbnk45t6MJw?referrer=workspace)\n"
   ]
  }
 ],
 "metadata": {
  "finalized": {
   "timestamp": 1617199748724,
   "trusted": true
  },
  "kernelspec": {
   "display_name": "FETP_venv",
   "language": "python",
   "name": "python3"
  },
  "language_info": {
   "codemirror_mode": {
    "name": "ipython",
    "version": 3
   },
   "file_extension": ".py",
   "mimetype": "text/x-python",
   "name": "python",
   "nbconvert_exporter": "python",
   "pygments_lexer": "ipython3",
   "version": "3.12.4"
  }
 },
 "nbformat": 4,
 "nbformat_minor": 4
}
