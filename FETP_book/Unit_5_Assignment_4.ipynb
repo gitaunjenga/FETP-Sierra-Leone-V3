{
 "cells": [
  {
   "cell_type": "markdown",
   "metadata": {},
   "source": [
    "# Assignment 4"
   ]
  },
  {
   "cell_type": "markdown",
   "metadata": {},
   "source": [
    "Since you began your investigation, additional measles cases have been identified and reported using the case investigation form. Data on these new cases now need to be included in your dataset before you begin your analysis.\n",
    "\n",
    "Your task is to organize and clean this new data using Excel and the DHIS2 Import Template. Once the data is clean and ready to be added to DHIS2, use the DHIS2 Bulk Upload feature to add the new data to DHIS2.\n"
   ]
  }
 ],
 "metadata": {
  "finalized": {
   "timestamp": 1617199748724,
   "trusted": true
  },
  "kernelspec": {
   "display_name": "FETP_venv",
   "language": "python",
   "name": "python3"
  },
  "language_info": {
   "codemirror_mode": {
    "name": "ipython",
    "version": 3
   },
   "file_extension": ".py",
   "mimetype": "text/x-python",
   "name": "python",
   "nbconvert_exporter": "python",
   "pygments_lexer": "ipython3",
   "version": "3.12.4"
  }
 },
 "nbformat": 4,
 "nbformat_minor": 4
}
