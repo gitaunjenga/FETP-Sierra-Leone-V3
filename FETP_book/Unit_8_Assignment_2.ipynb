{
  "cells": [
    {
      "cell_type": "markdown",
      "metadata": {
        "id": "VLG5_RdEplh-"
      },
      "source": [
        "# Assignment 2"
      ]
    },
    {
      "cell_type": "markdown",
      "metadata": {},
      "source": [
        "Continue your preparations to disseminate your recommendations to your target audience using the following questions. Prepare a final presentation to share your work to the larger group.\n"
      ]
    },
    {
      "cell_type": "markdown",
      "metadata": {},
      "source": [
        "---"
      ]
    },
    {
      "cell_type": "markdown",
      "metadata": {},
      "source": [
        "#### Questions"
      ]
    },
    {
      "cell_type": "markdown",
      "metadata": {},
      "source": [
        "4. What story in your data will be of the greatest interest to your main audience?\n",
        "\n",
        "5. What visualizations can you use to tell this story to your audience in a simple and engaging way?\n",
        "\n",
        "6. Use the appropriate software application and/or technology to prepare the visualizations you selected for your audience. Be sure to tailor your visualization so that it tells the story you want to tell your audience."
      ]
    },
    {
      "cell_type": "markdown",
      "metadata": {},
      "source": [
        "---"
      ]
    },
    {
      "cell_type": "markdown",
      "metadata": {},
      "source": [
        "> **Please submit your answers using the form provided below**"
      ]
    },
    {
      "cell_type": "markdown",
      "metadata": {},
      "source": [
        "<iframe class=\"form\" width=\"700px\" height=\"600px\"\n",
        "        src=\"https://docs.google.com/forms/d/e/1FAIpQLSc-KciMFqnErIlwsABl7dc70-vw_DrTvjUSSOaVW09HYmSSqA/viewform?embedded=true\"\n",
        "        allowfullscreen></iframe>"
      ]
    }
  ],
  "metadata": {
    "colab": {
      "provenance": [],
      "toc_visible": true
    },
    "kernelspec": {
      "display_name": "Python 3 (ipykernel)",
      "language": "python",
      "name": "python3"
    },
    "language_info": {
      "codemirror_mode": {
        "name": "ipython",
        "version": 3
      },
      "file_extension": ".py",
      "mimetype": "text/x-python",
      "name": "python",
      "nbconvert_exporter": "python",
      "pygments_lexer": "ipython3",
      "version": "3.12.4"
    }
  },
  "nbformat": 4,
  "nbformat_minor": 0
}
