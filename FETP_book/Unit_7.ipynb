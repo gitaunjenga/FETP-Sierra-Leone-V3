{
 "cells": [
  {
   "cell_type": "markdown",
   "metadata": {
    "tags": [],
    "user_expressions": []
   },
   "source": [
    "# Unit 7: Interpret Results Using Informatics"
   ]
  },
  {
   "cell_type": "markdown",
   "metadata": {},
   "source": [
    "#### Learning objectives\n"
   ]
  },
  {
   "cell_type": "markdown",
   "metadata": {},
   "source": [
    "- Identify when informatics tools can and cannot be used to check for spurious association\n",
    "- Use informatics tools to evaluate the role of chance using tests of significance\n",
    "- Identify data insights to translate into recommendations for interventions (e.g., vaccination campaigns, isolation protocols, travel restrictions) \n"
   ]
  },
  {
   "cell_type": "markdown",
   "metadata": {},
   "source": [
    "#### Unit Slides"
   ]
  },
  {
   "cell_type": "markdown",
   "metadata": {},
   "source": [
    "<iframe class=\"slides\" width=\"800px\" height=\"480px\"\n",
    "        src=\"https://docs.google.com/presentation/d/17idSCpTmxmJKuoTOAofthU3_4sYP1g9Z/embed?start=false&loop=false&delayms=3000\" frameborder=\"0\" width=\"100%\" height=\"500\" allowfullscreen=\"true\" mozallowfullscreen=\"true\" webkitallowfullscreen=\"true\"></iframe>"
   ]
  },
  {
   "cell_type": "markdown",
   "metadata": {},
   "source": [
    "#### Interpretation: Data + Information \n"
   ]
  },
  {
   "cell_type": "markdown",
   "metadata": {},
   "source": [
    "- Using the analysis to further understand your findings and the implications for your program.\n",
    "- It is the process of adding meaning to information by: \n",
    "    - making connections and comparisons \n",
    "    - exploring causes and consequences \n",
    "    - explaining patterns or trends observed within the data.\n",
    "- In many cases, additional information is needed for people to be able to correctly interpret your analysis"
   ]
  }
 ],
 "metadata": {
  "finalized": {
   "timestamp": 1617199748724,
   "trusted": true
  },
  "kernelspec": {
   "display_name": "FETP_venv",
   "language": "python",
   "name": "python3"
  },
  "language_info": {
   "codemirror_mode": {
    "name": "ipython",
    "version": 3
   },
   "file_extension": ".py",
   "mimetype": "text/x-python",
   "name": "python",
   "nbconvert_exporter": "python",
   "pygments_lexer": "ipython3",
   "version": "3.12.4"
  }
 },
 "nbformat": 4,
 "nbformat_minor": 4
}
