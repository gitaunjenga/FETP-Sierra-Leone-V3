{
 "cells": [
  {
   "cell_type": "markdown",
   "metadata": {
    "tags": [],
    "user_expressions": []
   },
   "source": [
    "# Case Study Assignment 6"
   ]
  },
  {
   "cell_type": "markdown",
   "metadata": {},
   "source": [
    "It is almost time for you to present your surveillance summary report to your supervisor and team. In order to prepare your presentation, you will need to use the IDSR guidelines, your clean measles dataset, and Excel to summarize and visualize your data. "
   ]
  },
  {
   "cell_type": "markdown",
   "metadata": {},
   "source": [
    "Recall that your summary surveillance report will need to answer the following key questions:\n",
    "- How many cases were detected? Has the epidemic threshold for measles been crossed?\n",
    "- Where did the cases occur?\n",
    "- Who is affected? \n",
    "- Is the increase due to an outbreak? Is there another explanation for the increase in reported cases? \n",
    "- What action should be taken next? By whom?\n"
   ]
  },
  {
   "cell_type": "markdown",
   "metadata": {},
   "source": [
    "---"
   ]
  },
  {
   "cell_type": "markdown",
   "metadata": {},
   "source": [
    "> In your small groups, use the next 30 minutes to respond to Questions 11-15:"
   ]
  },
  {
   "cell_type": "markdown",
   "metadata": {},
   "source": [
    "- Use Excel to create tables and graphs\n",
    "- Prepare to a 5 minutes presentation of your surveillance summary report \n"
   ]
  },
  {
   "cell_type": "markdown",
   "metadata": {},
   "source": [
    "**Questions**"
   ]
  },
  {
   "cell_type": "markdown",
   "metadata": {},
   "source": [
    "11. What analyses will you need to conduct? For each one, which Excel features will you use?"
   ]
  },
  {
   "cell_type": "markdown",
   "metadata": {},
   "source": [
    "12. Use Excel to create tables indicating:\n",
    "\n",
    "    - Incidence of measles cases during the last 12 months by age group\n",
    "\n",
    "    - Measles cases and deaths by age group\n",
    "    \n",
    "    - Percentage of cases occurring within given age groups, immunization status\n",
    "\n",
    "\n"
   ]
  },
  {
   "cell_type": "markdown",
   "metadata": {},
   "source": [
    "13. Create a map depicting the location of case households.\n"
   ]
  },
  {
   "cell_type": "markdown",
   "metadata": {},
   "source": [
    "14. Use Excel to create an epi curve. Your epi curve should highlight dates when:\n",
    "\n",
    "    - onset of the first case occurred, \n",
    "\n",
    "    - health facility notified the district, \n",
    "    \n",
    "    - first case seen at the health facility,\n",
    "    \n",
    "    - district notified the higher level.\n",
    "\n",
    "\n"
   ]
  },
  {
   "cell_type": "markdown",
   "metadata": {},
   "source": [
    "15. Prepare a presentation of your surveillance summary, including your analyses and recommendations for action. "
   ]
  },
  {
   "cell_type": "markdown",
   "metadata": {},
   "source": [
    "Be prepared to share:\n",
    "- how you applied informatics principles, systems, and tools to the case study\n",
    "- what practices you plan to use in the field\n"
   ]
  },
  {
   "cell_type": "markdown",
   "metadata": {},
   "source": [
    "---"
   ]
  },
  {
   "cell_type": "markdown",
   "metadata": {},
   "source": [
    "> **Please submit your answers using the form provided below**"
   ]
  },
  {
   "cell_type": "markdown",
   "metadata": {},
   "source": [
    "<iframe class=\"form\" width=\"640px\" height=\"480px\"\n",
    "        src=\"https://docs.google.com/forms/d/e/1FAIpQLSeO6b70wAmzDediAc5RyBAqo3y-i6BtOpvNuKxW291YtGWPKw/viewform?embedded=true\"\n",
    "        allowfullscreen></iframe>"
   ]
  }
 ],
 "metadata": {
  "finalized": {
   "timestamp": 1617199748724,
   "trusted": true
  },
  "kernelspec": {
   "display_name": "FETP_venv",
   "language": "python",
   "name": "python3"
  },
  "language_info": {
   "codemirror_mode": {
    "name": "ipython",
    "version": 3
   },
   "file_extension": ".py",
   "mimetype": "text/x-python",
   "name": "python",
   "nbconvert_exporter": "python",
   "pygments_lexer": "ipython3",
   "version": "3.12.4"
  }
 },
 "nbformat": 4,
 "nbformat_minor": 4
}
