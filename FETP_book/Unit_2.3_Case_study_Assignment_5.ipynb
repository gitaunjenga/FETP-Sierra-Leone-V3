{
 "cells": [
  {
   "cell_type": "markdown",
   "metadata": {
    "tags": [],
    "user_expressions": []
   },
   "source": [
    "# Case Study Assignment 5"
   ]
  },
  {
   "cell_type": "markdown",
   "metadata": {},
   "source": [
    "After noticing that your dataset is missing measles signs and symptoms, you follow up with the Data Manager, who provides you with another dataset with the clinical data you requested from all health facilities. Your first step is to review and prepare to merge this new dataset with your existing dataset with case notification data."
   ]
  },
  {
   "cell_type": "markdown",
   "metadata": {},
   "source": [
    "This means that you will need to:\n",
    "- Check data quality and address any issues.\n",
    "- Check that each dataset is structured, formatted, and organized the same way. \n",
    "- Identify which fields are common to both datasets (Case ID, Date seen at HF/Community, Age, Sex, Date of Onset)\n",
    "- Check that the values in both datasets align. \n",
    "- Determine if you need to add columns (widening your dataset) or add rows (lengthening your dataset)\n"
   ]
  },
  {
   "cell_type": "markdown",
   "metadata": {},
   "source": [
    "---"
   ]
  },
  {
   "cell_type": "markdown",
   "metadata": {},
   "source": [
    "> In your small group, use the next 40 minutes to respond to Questions 8, 9, and 10 using Excel:"
   ]
  },
  {
   "cell_type": "markdown",
   "metadata": {},
   "source": [
    "- Review your new dataset\n",
    "- Get your new dataset ready to merge\n",
    "- Merge your new dataset with your case notification dataset\n"
   ]
  },
  {
   "cell_type": "markdown",
   "metadata": {},
   "source": [
    "> Be prepared to share your reponses and final merged dataset."
   ]
  },
  {
   "cell_type": "markdown",
   "metadata": {},
   "source": [
    "---"
   ]
  },
  {
   "cell_type": "markdown",
   "metadata": {},
   "source": [
    "**Questions**"
   ]
  },
  {
   "cell_type": "markdown",
   "metadata": {},
   "source": [
    "8. What did you discover about this new dataset? List any actions you need to take before merging this patient dataset with the case notification dataset."
   ]
  },
  {
   "cell_type": "markdown",
   "metadata": {},
   "source": [
    "9. Prepare the new patient dataset for merging."
   ]
  },
  {
   "cell_type": "markdown",
   "metadata": {},
   "source": [
    "10. Use Excel to merge the two datasets.\n"
   ]
  },
  {
   "cell_type": "markdown",
   "metadata": {},
   "source": [
    "---"
   ]
  },
  {
   "cell_type": "markdown",
   "metadata": {},
   "source": [
    "> **Please submit your answers using the form provided below**"
   ]
  },
  {
   "cell_type": "markdown",
   "metadata": {},
   "source": [
    "<iframe class=\"form\" width=\"640px\" height=\"480px\"\n",
    "        src=\"https://docs.google.com/forms/d/e/1FAIpQLSfd-ngzt6fqJEVSKSV2leUo6Dq1SyiW7sM95YKEvFq9njgX2g/viewform?embedded=true\"\n",
    "        allowfullscreen></iframe>"
   ]
  }
 ],
 "metadata": {
  "finalized": {
   "timestamp": 1617199748724,
   "trusted": true
  },
  "kernelspec": {
   "display_name": "FETP_venv",
   "language": "python",
   "name": "python3"
  },
  "language_info": {
   "codemirror_mode": {
    "name": "ipython",
    "version": 3
   },
   "file_extension": ".py",
   "mimetype": "text/x-python",
   "name": "python",
   "nbconvert_exporter": "python",
   "pygments_lexer": "ipython3",
   "version": "3.12.4"
  }
 },
 "nbformat": 4,
 "nbformat_minor": 4
}
