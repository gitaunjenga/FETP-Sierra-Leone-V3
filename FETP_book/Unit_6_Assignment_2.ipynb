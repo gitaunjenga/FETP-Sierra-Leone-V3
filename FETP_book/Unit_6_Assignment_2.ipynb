{
 "cells": [
  {
   "cell_type": "markdown",
   "metadata": {},
   "source": [
    "# Assignment 2"
   ]
  },
  {
   "cell_type": "markdown",
   "metadata": {},
   "source": [
    "Now that you’ve decided on a software application to use to analyze and visualize your measles data, it’s time to create the tables, graphs, and maps laid out in your data analysis plan."
   ]
  },
  {
   "cell_type": "markdown",
   "metadata": {},
   "source": [
    "Refer back to the user scribe guides and videos as needed."
   ]
  },
  {
   "cell_type": "markdown",
   "metadata": {},
   "source": [
    "---"
   ]
  },
  {
   "cell_type": "markdown",
   "metadata": {},
   "source": [
    "#### Questions"
   ]
  },
  {
   "cell_type": "markdown",
   "metadata": {},
   "source": [
    "5. For each table included in your data analysis plan, describe the steps you will take to create the pivot table.\n",
    "    - Data: what program and program indicators will you use?\n",
    "    - Period: what period will you use?\n",
    "    - Organization Unit: what organization unit will you use?"
   ]
  },
  {
   "cell_type": "markdown",
   "metadata": {},
   "source": [
    "6. Create the tables identified in your data analysis plan.\n"
   ]
  },
  {
   "cell_type": "markdown",
   "metadata": {},
   "source": [
    "7. For the graphs identified in your data analysis plan, describe the steps you will take to create each graph.\n",
    "    - Chart Type: What type of chart will you select?\n",
    "    - Data: what program and program indicators will you use?\n",
    "    - Period: what period will you use?\n",
    "    - Organization Unit: what organization unit will you use?\n",
    "\n"
   ]
  },
  {
   "cell_type": "markdown",
   "metadata": {},
   "source": [
    "8. Create the graphs identified in your data analysis plan"
   ]
  },
  {
   "cell_type": "markdown",
   "metadata": {},
   "source": [
    "9. Outline the steps you will take to create the map identified in your data analysis plan.\n",
    "\n",
    "    - Data: what indicator group and indicator will you use?\n",
    "    - Period: what period will you use?\n",
    "    - Organization Unit: what organization unit will you use?\n"
   ]
  },
  {
   "cell_type": "markdown",
   "metadata": {},
   "source": [
    "10.  Create the map."
   ]
  },
  {
   "cell_type": "markdown",
   "metadata": {},
   "source": [
    "---"
   ]
  },
  {
   "cell_type": "markdown",
   "metadata": {},
   "source": [
    "<iframe class=\"form\" width=\"700px\" height=\"600px\"\n",
    "        src=\"https://docs.google.com/forms/d/e/1FAIpQLSdI36QH--ULTjrOThy_6GjSzcxHzi0e43HU_5DpxWlR8dogig/viewform?embedded=true\"\n",
    "        allowfullscreen></iframe>"
   ]
  }
 ],
 "metadata": {
  "finalized": {
   "timestamp": 1617199748724,
   "trusted": true
  },
  "kernelspec": {
   "display_name": "FETP_venv",
   "language": "python",
   "name": "python3"
  },
  "language_info": {
   "codemirror_mode": {
    "name": "ipython",
    "version": 3
   },
   "file_extension": ".py",
   "mimetype": "text/x-python",
   "name": "python",
   "nbconvert_exporter": "python",
   "pygments_lexer": "ipython3",
   "version": "3.12.4"
  }
 },
 "nbformat": 4,
 "nbformat_minor": 4
}
