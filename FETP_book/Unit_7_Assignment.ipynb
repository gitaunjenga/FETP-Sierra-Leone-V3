{
 "cells": [
  {
   "cell_type": "markdown",
   "metadata": {},
   "source": [
    "# Assignment 1"
   ]
  },
  {
   "cell_type": "markdown",
   "metadata": {},
   "source": [
    "At this point, you have used DHIS2 to analyze your measles data according to your data analysis plan, filling in the tables, graphs, and map sections along the way. DHIS2 may have crunched the numbers - and it is up to you and your team to interpret the results.\n",
    "\n",
    "Before doing so, you’ll need to identify any alternate explanations and rule them out. As you answer the following questions, reflect on the software applications that have been used to collect, clean, transmit, and analyze your measles data. \n"
   ]
  },
  {
   "cell_type": "markdown",
   "metadata": {},
   "source": [
    "---"
   ]
  },
  {
   "cell_type": "markdown",
   "metadata": {},
   "source": [
    "#### Questions"
   ]
  },
  {
   "cell_type": "markdown",
   "metadata": {},
   "source": [
    "1. List three ways in which the HIS system, software features, and standards that help prevent results from occurring by chance.\n",
    "\n",
    "2. Are any of your results explained by chance, selection bias, information bias, confounding, or investigator error?\n",
    "\n",
    "3. List any software features and standards that helped prevent selection and information bias.\n",
    "\n",
    "4.  List any software features and standards that were used to identify confounding factors.\n",
    "\n",
    "5. List any software features and standards that you will use to identify or prevent investigator error."
   ]
  },
  {
   "cell_type": "markdown",
   "metadata": {},
   "source": [
    "---"
   ]
  },
  {
   "cell_type": "markdown",
   "metadata": {},
   "source": [
    "> **Please submit your answers using the form provided below**"
   ]
  },
  {
   "cell_type": "markdown",
   "metadata": {},
   "source": [
    "<iframe class=\"form\" width=\"700px\" height=\"600px\"\n",
    "        src=\"https://docs.google.com/forms/d/e/1FAIpQLSd0AvRgnOPYq8xdyyPn5JPOd8bgYk27eDpEzJNuwL_oT04AxA/viewform?embedded=true\"\n",
    "        allowfullscreen></iframe>\n",
    "\n"
   ]
  }
 ],
 "metadata": {
  "finalized": {
   "timestamp": 1617199748724,
   "trusted": true
  },
  "kernelspec": {
   "display_name": "FETP_venv",
   "language": "python",
   "name": "python3"
  },
  "language_info": {
   "codemirror_mode": {
    "name": "ipython",
    "version": 3
   },
   "file_extension": ".py",
   "mimetype": "text/x-python",
   "name": "python",
   "nbconvert_exporter": "python",
   "pygments_lexer": "ipython3",
   "version": "3.12.4"
  }
 },
 "nbformat": 4,
 "nbformat_minor": 4
}
