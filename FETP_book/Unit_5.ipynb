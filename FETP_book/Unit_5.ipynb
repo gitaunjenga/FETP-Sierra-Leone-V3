{
 "cells": [
  {
   "cell_type": "markdown",
   "metadata": {
    "tags": [],
    "user_expressions": []
   },
   "source": [
    "# Unit 5: Compile Data Using Informatics"
   ]
  },
  {
   "cell_type": "markdown",
   "metadata": {},
   "source": [
    "#### Learning objectives:\n"
   ]
  },
  {
   "cell_type": "markdown",
   "metadata": {},
   "source": [
    "- Describe the components of the data flow pathway \n",
    "- Apply knowledge of informatics principles and systems to assess and store datasets to be used for an investigation\n",
    "- Describe how the appropriate standards and software applications are used to clean and prepare data for analysis\n",
    "- Define interoperability and explain the different types of interoperability\n",
    "- Explain the importance of global health information standards and terminologies for interoperability and epidemiology\n",
    "- Use standards and software features to clean, prepare, and merge or join data from multiple sources\n"
   ]
  },
  {
   "cell_type": "markdown",
   "metadata": {},
   "source": [
    "#### Unit Slides"
   ]
  },
  {
   "cell_type": "markdown",
   "metadata": {},
   "source": [
    "<iframe class=\"slides\" width=\"800px\" height=\"480px\"\n",
    "        src=\"https://docs.google.com/presentation/d/14yf0u2FPEsFcDmdM0uYcWJY4HJk0Hmb7/embed?start=false&loop=false&delayms=3000\" frameborder=\"0\" width=\"100%\" height=\"500\" allowfullscreen=\"true\" mozallowfullscreen=\"true\" webkitallowfullscreen=\"true\"></iframe>\n",
    "\n",
    "\n",
    "        "
   ]
  },
  {
   "cell_type": "markdown",
   "metadata": {},
   "source": [
    "![fishy](images/laila_unit5.png)"
   ]
  },
  {
   "cell_type": "markdown",
   "metadata": {},
   "source": [
    "**Laila’s Solution:** "
   ]
  },
  {
   "cell_type": "markdown",
   "metadata": {},
   "source": [
    "- Apply informatics solutions to rapidly compile data from multiple sources\n",
    "    - Merge and store data in a single database\n",
    "    - Access data in a central database or data warehouse \n",
    "    - Use software features to rapidly clean data \n"
   ]
  },
  {
   "cell_type": "markdown",
   "metadata": {},
   "source": [
    "- Merge and store data in a single database\n",
    "- Access data in a central database or data warehouse \n",
    "- Use software features to rapidly clean data \n"
   ]
  },
  {
   "cell_type": "markdown",
   "metadata": {},
   "source": [
    "---"
   ]
  },
  {
   "cell_type": "markdown",
   "metadata": {},
   "source": [
    "#### Resources"
   ]
  },
  {
   "cell_type": "markdown",
   "metadata": {},
   "source": [
    "https://www.oregon.gov/oha/HPA/OHIT-HITOC/Documents/HealthInformationExchangeOverview.pdf\n",
    "\n",
    "https://africacdc.org/download/african-union-health-information-exchange-guidelines-and-standards/"
   ]
  }
 ],
 "metadata": {
  "finalized": {
   "timestamp": 1617199748724,
   "trusted": true
  },
  "kernelspec": {
   "display_name": "FETP_venv",
   "language": "python",
   "name": "python3"
  },
  "language_info": {
   "codemirror_mode": {
    "name": "ipython",
    "version": 3
   },
   "file_extension": ".py",
   "mimetype": "text/x-python",
   "name": "python",
   "nbconvert_exporter": "python",
   "pygments_lexer": "ipython3",
   "version": "3.12.4"
  }
 },
 "nbformat": 4,
 "nbformat_minor": 4
}
