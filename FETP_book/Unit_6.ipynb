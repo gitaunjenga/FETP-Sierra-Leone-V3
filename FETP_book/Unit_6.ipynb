{
 "cells": [
  {
   "cell_type": "markdown",
   "metadata": {
    "tags": [],
    "user_expressions": []
   },
   "source": [
    "# Unit 6: Analyze"
   ]
  },
  {
   "cell_type": "markdown",
   "metadata": {},
   "source": [
    "#### What have we done so far?"
   ]
  },
  {
   "cell_type": "markdown",
   "metadata": {},
   "source": [
    "- Identified the questions to answer through their investigation\n",
    "- Gathered information about measles and the population they are investigating\n",
    "- Created a data analysis plan, including defining the statistical tests to run and created dummy tables.\n",
    "- Collected the data needed for analysis\n",
    "- Assessed and prepared their datasets for analysis\n"
   ]
  },
  {
   "cell_type": "markdown",
   "metadata": {},
   "source": [
    "#### Where we are now: data analysis"
   ]
  },
  {
   "cell_type": "markdown",
   "metadata": {},
   "source": [
    "- Takes the raw data collected for your program and transforms them into information that can be used for decision making.\n",
    "- Helps provide answers to your investigation questions. This can include comparison of:\n",
    "    - Actual performance compared to program target:\n",
    "    - Current performance compared to previous performance:\n",
    "    - Performance between different sites or groups\n",
    "\n"
   ]
  },
  {
   "cell_type": "markdown",
   "metadata": {},
   "source": [
    "#### Learning Objectives\n"
   ]
  },
  {
   "cell_type": "markdown",
   "metadata": {},
   "source": [
    "- Use different statistical software and data visualization techniques for data analysis\n",
    "- Enhance methods of knowledge representation using digital tools to translate data insights into actionable public health strategies for surveillance activities.\n",
    "- Highlight the importance of data visualization and dashboards for effective communication\n",
    "- List various data visualizations used in data science and informatics\n",
    "- Describe the data requirements for each visualization as well as key considerations\n",
    "- Identify the required skill set needed to create and alter each data visualization \n",
    "- Create clear and compelling data visualizations using appropriate software tools to effectively communicate trends, patterns, and potential risks identified through surveillance data analysis to public health authorities and decision-makers.\n"
   ]
  },
  {
   "cell_type": "markdown",
   "metadata": {},
   "source": [
    "#### Unit Slides"
   ]
  },
  {
   "cell_type": "markdown",
   "metadata": {},
   "source": [
    "<iframe class=\"slides\" width=\"800px\" height=\"480px\"\n",
    "        src=\"https://docs.google.com/presentation/d/1iVceCXPBR7ysb4mGtDYtjhZpHUt7IcFU/embed?start=false&loop=false&delayms=3000\" frameborder=\"0\" width=\"100%\" height=\"500\" allowfullscreen=\"true\" mozallowfullscreen=\"true\" webkitallowfullscreen=\"true\"></iframe>"
   ]
  }
 ],
 "metadata": {
  "finalized": {
   "timestamp": 1617199748724,
   "trusted": true
  },
  "kernelspec": {
   "display_name": "FETP_venv",
   "language": "python",
   "name": "python3"
  },
  "language_info": {
   "codemirror_mode": {
    "name": "ipython",
    "version": 3
   },
   "file_extension": ".py",
   "mimetype": "text/x-python",
   "name": "python",
   "nbconvert_exporter": "python",
   "pygments_lexer": "ipython3",
   "version": "3.12.4"
  }
 },
 "nbformat": 4,
 "nbformat_minor": 4
}
