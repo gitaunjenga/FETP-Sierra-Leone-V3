{
 "cells": [
  {
   "cell_type": "markdown",
   "metadata": {
    "tags": [],
    "user_expressions": []
   },
   "source": [
    "# All Resources"
   ]
  },
  {
   "cell_type": "markdown",
   "metadata": {},
   "source": [
    "---"
   ]
  },
  {
   "cell_type": "markdown",
   "metadata": {},
   "source": [
    "### DHIS2 Training Instance"
   ]
  },
  {
   "cell_type": "markdown",
   "metadata": {},
   "source": [
    "[Click to open in your browser](https://training.dhis.hisp.org/sl-idsr/dhis-web-commons/security/login.action#/N8FEDHfsG5C)\n"
   ]
  },
  {
   "cell_type": "markdown",
   "metadata": {},
   "source": [
    "Username and Password will be provided"
   ]
  },
  {
   "cell_type": "markdown",
   "metadata": {},
   "source": [
    "---"
   ]
  },
  {
   "cell_type": "markdown",
   "metadata": {},
   "source": [
    "### Template"
   ]
  },
  {
   "cell_type": "markdown",
   "metadata": {},
   "source": [
    "[01 Notifiable Medical Conditions - Cases](<https://docs.google.com/spreadsheets/d/1H4SlhADrAyNCwXNgnvgl5UJJzm78lZUg/edit?usp=sharing&ouid=114907593212309614211&rtpof=true&sd=true>)"
   ]
  },
  {
   "cell_type": "markdown",
   "metadata": {},
   "source": [
    "### Unit 2.1 Resources"
   ]
  },
  {
   "cell_type": "markdown",
   "metadata": {},
   "source": [
    "> Unit 2.2 Sierra Leone eIDSR and HIS Strategies - resources\n",
    "\n",
    "The following resources describe the current eIDSR and HIS context, strategies, and policies:\n",
    "- [Technical Guidelines for IDSR, Section 11](https://drive.google.com/drive/folders/16c5WWaa4av1LiCJgj1YN7hlwHyMOkhSr;!!LQC6Cpwp!pSkpC6ISJbFfqwcfslZJ7BuN8v6lLfkzjW9p89ftHMxpewmu9BDC5hzm9yNVy4TXqFxQwVqOa2iKw9CcEsPbBKegeFFXwoJvRkI$>)\n",
    "- [Situational Analysis of HIS in Sierra Leone, Sierra Leone Health Information System Policy, December 2021](<https://drive.google.com/drive/folders/16c5WWaa4av1LiCJgj1YN7hlwHyMOkhSr>)\n",
    "- [Community Health Information System (CHIS), National CHW Policy 2021](<https://drive.google.com/drive/folders/16c5WWaa4av1LiCJgj1YN7hlwHyMOkhSr>)"
   ]
  },
  {
   "cell_type": "markdown",
   "metadata": {},
   "source": [
    "> Unit 2.1 Dataset"
   ]
  },
  {
   "cell_type": "markdown",
   "metadata": {},
   "source": [
    "[2021 Case Notification Data](https://docs.google.com/spreadsheets/d/1geVqIkcWVHBHVG39N4R-h4Fk8PL8gsB8/edit?usp=sharing&ouid=105784689004172007546&rtpof=true&sd=true)"
   ]
  },
  {
   "cell_type": "markdown",
   "metadata": {},
   "source": [
    "> Unit 2.1 Excel How-To Scribes"
   ]
  },
  {
   "cell_type": "markdown",
   "metadata": {},
   "source": [
    "What are Excel How-To Scribes?\n",
    "- These are easy to follow, step by step instructions with screenshots.\n"
   ]
  },
  {
   "cell_type": "markdown",
   "metadata": {},
   "source": [
    "- [Make a Working Copy of Your Dataset](https://scribehow.com/shared/Create_a_copy_of_the_dataset_as_a_new_file__C7nao6DfR2OgFA63HVto9Q?referrer=workspace)\n",
    "- [Create a Copy of a Dataset in a New Worksheet](https://scribehow.com/shared/A_guide_to_making_a_copy_of_MS_Excel_worksheet__nFPW3BrmQ5qA3yMZmBIKug?referrer=workspace)\n",
    "- [Sort Data Using a Single Variable](https://scribehow.com/shared/A_guide_to_sorting_data_in_MS_Excel__OdSOUuArSBSRInz4qO6ijw?referrer=workspace)\n",
    "- [Sort Data Using Multiple Variables](https://scribehow.com/shared/A_guide_to_multiple_sorting_in_MS_Excel__NieApI7sQLSM7fcqvGqpjA?referrer=workspace)\n",
    "- [Filter Data](https://scribehow.com/shared/A_guide_to_filtering_data_in_MS_Excel__tz_S8tOWTiaIyII1Qu1Wng?referrer=workspace)\n",
    "- [Use the Count Function in Excel](https://scribehow.com/shared/How_big_is_your_dataset_A_guide_to_counting_rows_in_Excel__U6cLWaK9RvSmt6mz3k99Lw?referrer=workspace)\n",
    "- [Use the Max-Min Function](https://scribehow.com/shared/A_guide_to_estimating_maximum_and_minimum_values_in_Excel_using_MAX_and_MIN_functions__lZiWahgvQJyEbnk45t6MJw?referrer=workspace)\n"
   ]
  },
  {
   "cell_type": "markdown",
   "metadata": {},
   "source": [
    "---"
   ]
  },
  {
   "cell_type": "markdown",
   "metadata": {},
   "source": [
    "### Unit 2.2 Resources"
   ]
  },
  {
   "cell_type": "markdown",
   "metadata": {},
   "source": [
    "- DHIS2 Data Dictionary ([data elements](<https://urldefense.com/v3/__https:/docs.google.com/spreadsheets/d/1d0ZII5z_DCTmb8LuiV4oqaKaHmissjVC/edit?usp=drive_web&ouid=108715504237390584810&rtpof=true__;!!LQC6Cpwp!pSkpC6ISJbFfqwcfslZJ7BuN8v6lLfkzjW9p89ftHMxpewmu9BDC5hzm9yNVy4TXqFxQwVqOa2iKw9CcEsPbBKegeFFXgR-Fw1I$>), [options](<https://urldefense.com/v3/__https:/docs.google.com/spreadsheets/d/12yJ6FGxzaQkuzP9Yn-vbtsnYUZzU5Agc/edit?usp=drive_web&ouid=108715504237390584810&rtpof=true__;!!LQC6Cpwp!pSkpC6ISJbFfqwcfslZJ7BuN8v6lLfkzjW9p89ftHMxpewmu9BDC5hzm9yNVy4TXqFxQwVqOa2iKw9CcEsPbBKegeFFXiG19cwE$>), and [option sets for measles](<https://urldefense.com/v3/__https:/docs.google.com/spreadsheets/d/1Ye3VuO82S6pMH6AguM8pLM0YK_U01iOr/edit?usp=drive_web&ouid=108715504237390584810&rtpof=true__;!!LQC6Cpwp!pSkpC6ISJbFfqwcfslZJ7BuN8v6lLfkzjW9p89ftHMxpewmu9BDC5hzm9yNVy4TXqFxQwVqOa2iKw9CcEsPbBKegeFFXt6ibTkI$>))\n",
    "- [2021 Measles Case Notification Data](https://docs.google.com/spreadsheets/d/1GOkEOm9uBZjzWb-J7dmRUjV56spjl4w9VlUm0KipD3Q/export?format=xlsx)\n",
    "- [2021 Clinical Data (Measles)](https://docs.google.com/spreadsheets/d/1-Q40JmnWks_bjArYycTe_unGkGlQPqJqEtJ7dVnC59I/export?format=xlsx)\n",
    "- Excel"
   ]
  },
  {
   "cell_type": "markdown",
   "metadata": {},
   "source": [
    "> Unit 2.2 Excel How-To Scribes"
   ]
  },
  {
   "cell_type": "markdown",
   "metadata": {},
   "source": [
    "- [Make a Working Copy of Your Dataset](https://scribehow.com/shared/Create_a_copy_of_the_dataset_as_a_new_file__C7nao6DfR2OgFA63HVto9Q?referrer=workspace)\n",
    "- [Create a Copy of a Dataset in a New Worksheet](https://scribehow.com/shared/A_guide_to_making_a_copy_of_MS_Excel_worksheet__nFPW3BrmQ5qA3yMZmBIKug?referrer=workspace)\n",
    "- [Sort Data Using a Single Variable](https://scribehow.com/shared/A_guide_to_sorting_data_in_MS_Excel__OdSOUuArSBSRInz4qO6ijw?referrer=workspace)\n",
    "- [Sort Data Using Multiple Variables](https://scribehow.com/shared/A_guide_to_multiple_sorting_in_MS_Excel__NieApI7sQLSM7fcqvGqpjA?referrer=workspace)\n",
    "- [Filter Data](https://scribehow.com/shared/A_guide_to_filtering_data_in_MS_Excel__tz_S8tOWTiaIyII1Qu1Wng?referrer=workspace)\n",
    "- [Use the Count Function in Excel](https://scribehow.com/shared/How_big_is_your_dataset_A_guide_to_counting_rows_in_Excel__U6cLWaK9RvSmt6mz3k99Lw?referrer=workspace)\n",
    "- [Use the Max-Min Function](https://scribehow.com/shared/A_guide_to_estimating_maximum_and_minimum_values_in_Excel_using_MAX_and_MIN_functions__lZiWahgvQJyEbnk45t6MJw?referrer=workspace)\n",
    "- [Using Conditional Formatting to Check for Duplicate Columns](https://scribehow.com/shared/A_guide_on_checking_for_duplicate_columns_in_datasets_using_Conditional_Formatting_function_in_Excel__ISYKaGlzQMa6wx5wUvDdmA?referrer=documents)\n",
    "- [Applying rules to variables using \"Data Validation\"](https://scribehow.com/shared/A_guide_to_applying_rules_to_variables_using_Data_Validation_in_MS_Excel__6oHRLHy4TbWJd5enKCx_Ng)\n",
    "- [Identifying missing data using Excel’s “Find and Replace” feature](https://scribehow.com/shared/A_guide_to_identifying_missing_data_in_MS_Excel_using_find_and_replace_function__VB7SGJTMSeiWPU90H69xww)"
   ]
  },
  {
   "cell_type": "markdown",
   "metadata": {},
   "source": [
    "---"
   ]
  },
  {
   "cell_type": "markdown",
   "metadata": {},
   "source": [
    "### Unit 2.3 Resources"
   ]
  },
  {
   "cell_type": "markdown",
   "metadata": {},
   "source": [
    "> Unit 2.3 Excel How-To Scribes"
   ]
  },
  {
   "cell_type": "markdown",
   "metadata": {},
   "source": [
    "- [How to Create a New Variable in MS Excel](https://scribehow.com/shared/A_guide_to_creating_numerical_categories_using_IF_and_ISBLANK_functions_in_MS_Excel__ZlERWSTtRfqwtyiZxSYFAg?referrer=workspace)\n",
    "- [How to use an Excel Pivot Table to calculate the percentage of reported cases occurring within a given age group for the entire country](https://scribehow.com/shared/A_guide_to_calculating_number_of_cases_and_percentages_of_cases_using_Pivot_Table_in_Excel__-scoU1OvQfec0zdEWBiuPA?referrer=workspace)\n",
    "- [How to use an Excel Pivot Table to calculate the percentage of reported cases occurring within a given age group for one district](https://scribehow.com/shared/A_guide_to_estimating_the_number_and_percentage_of_cases_by_age_group_and_district_using_filtering_in_Pivot_Table_in_MS_Excel__P83fn0haSFK9SBEekxIsGQ?referrer=workspace)\n",
    "- [How to create an epi curve in MS Excel (Part 1)](https://scribehow.com/shared/A_guide_to_creating_Epidemic_Curve_with_one_day_interval_using_COUNTIF_and_CHART_functions_in_MS_Excel__Step_1__cB2y9yq_Shi-YcBj7sCFog?referrer=workspace)\n",
    "- [How to create an epi curve in MS Excel (Part 2)](https://scribehow.com/shared/A_guide_to_creating_Epidemic_Curve_with_one_day_interval_using_COUNTIF_and_CHART_functions_in_MS_Excel__Step_2__cHkXVNylSU2L7g15NldC6w?referrer=workspace)\n",
    "- [Presentation Template: Surveillance Summary Report](https://docs.google.com/presentation/d/1ahfhP06P9CJGFai81_wVuBU7QjUUj05QrprESgEEu9g/edit#slide=id.g30d90e4d11d_0_73)\n"
   ]
  },
  {
   "cell_type": "markdown",
   "metadata": {},
   "source": [
    "---"
   ]
  },
  {
   "cell_type": "markdown",
   "metadata": {},
   "source": [
    "### Unit 3 Resources"
   ]
  },
  {
   "cell_type": "markdown",
   "metadata": {},
   "source": [
    "- [Situational analysis of HIS in Sierra Leone, Sierra Leone Health Information System Policy, December 2021](<https://drive.google.com/drive/folders/16c5WWaa4av1LiCJgj1YN7hlwHyMOkhSr>)\n",
    "- [Community Health Information System (CHIS), National CHW Policy 2021](<https://drive.google.com/drive/folders/16c5WWaa4av1LiCJgj1YN7hlwHyMOkhSr>)\n",
    "- [Technical Guidelines for IDSR, Section 11](<https://drive.google.com/drive/folders/16c5WWaa4av1LiCJgj1YN7hlwHyMOkhSr;!!LQC6Cpwp!pSkpC6ISJbFfqwcfslZJ7BuN8v6lLfkzjW9p89ftHMxpewmu9BDC5hzm9yNVy4TXqFxQwVqOa2iKw9CcEsPbBKegeFFXwoJvRkI$>)\n",
    "- DHIS2 Data Dictionary ([data elements](<https://urldefense.com/v3/__https:/docs.google.com/spreadsheets/d/1d0ZII5z_DCTmb8LuiV4oqaKaHmissjVC/edit?usp=drive_web&ouid=108715504237390584810&rtpof=true__;!!LQC6Cpwp!pSkpC6ISJbFfqwcfslZJ7BuN8v6lLfkzjW9p89ftHMxpewmu9BDC5hzm9yNVy4TXqFxQwVqOa2iKw9CcEsPbBKegeFFXgR-Fw1I$>), [options](<https://urldefense.com/v3/__https:/docs.google.com/spreadsheets/d/12yJ6FGxzaQkuzP9Yn-vbtsnYUZzU5Agc/edit?usp=drive_web&ouid=108715504237390584810&rtpof=true__;!!LQC6Cpwp!pSkpC6ISJbFfqwcfslZJ7BuN8v6lLfkzjW9p89ftHMxpewmu9BDC5hzm9yNVy4TXqFxQwVqOa2iKw9CcEsPbBKegeFFXiG19cwE$>), and [option sets for measles](<https://urldefense.com/v3/__https:/docs.google.com/spreadsheets/d/1Ye3VuO82S6pMH6AguM8pLM0YK_U01iOr/edit?usp=drive_web&ouid=108715504237390584810&rtpof=true__;!!LQC6Cpwp!pSkpC6ISJbFfqwcfslZJ7BuN8v6lLfkzjW9p89ftHMxpewmu9BDC5hzm9yNVy4TXqFxQwVqOa2iKw9CcEsPbBKegeFFXt6ibTkI$>))\n",
    "- [DHIS2 Overview](<https://dhis2.org/overview/>), [Data Quality](<https://docs.dhis2.org/en/use/user-guides/dhis-core-version-241/collecting-data/data-quality.html>), [Configuration](<https://docs.dhis2.org/en/use/user-guides/dhis-core-version-241/configuring-the-system/metadata.html>)"
   ]
  },
  {
   "cell_type": "markdown",
   "metadata": {},
   "source": [
    "---"
   ]
  },
  {
   "cell_type": "markdown",
   "metadata": {},
   "source": [
    "### Unit 4 Resources"
   ]
  },
  {
   "cell_type": "markdown",
   "metadata": {},
   "source": [
    "- [Technical Guidelines for IDSR, Section 11](<https://drive.google.com/drive/folders/16c5WWaa4av1LiCJgj1YN7hlwHyMOkhSr;!!LQC6Cpwp!pSkpC6ISJbFfqwcfslZJ7BuN8v6lLfkzjW9p89ftHMxpewmu9BDC5hzm9yNVy4TXqFxQwVqOa2iKw9CcEsPbBKegeFFXwoJvRkI$>)\n",
    "- DHIS2 \n",
    "    - [Global Good Guidebook entry](<https://urldefense.com/v3/__https:/globalgoodsguidebook.org/global-goods/dhis2/__;!!LQC6Cpwp!pSkpC6ISJbFfqwcfslZJ7BuN8v6lLfkzjW9p89ftHMxpewmu9BDC5hzm9yNVy4TXqFxQwVqOa2iKw9CcEsPbBKegeFFXb790qb8$>)\n",
    "    - Digital Public Good Registry entry\n",
    "    - DHIS2 Data Dictionary ([data elements](<https://urldefense.com/v3/__https:/docs.google.com/spreadsheets/d/1d0ZII5z_DCTmb8LuiV4oqaKaHmissjVC/edit?usp=drive_web&ouid=108715504237390584810&rtpof=true__;!!LQC6Cpwp!pSkpC6ISJbFfqwcfslZJ7BuN8v6lLfkzjW9p89ftHMxpewmu9BDC5hzm9yNVy4TXqFxQwVqOa2iKw9CcEsPbBKegeFFXgR-Fw1I$>), [options](<https://urldefense.com/v3/__https:/docs.google.com/spreadsheets/d/12yJ6FGxzaQkuzP9Yn-vbtsnYUZzU5Agc/edit?usp=drive_web&ouid=108715504237390584810&rtpof=true__;!!LQC6Cpwp!pSkpC6ISJbFfqwcfslZJ7BuN8v6lLfkzjW9p89ftHMxpewmu9BDC5hzm9yNVy4TXqFxQwVqOa2iKw9CcEsPbBKegeFFXiG19cwE$>), and [option sets for measles](<https://urldefense.com/v3/__https:/docs.google.com/spreadsheets/d/1Ye3VuO82S6pMH6AguM8pLM0YK_U01iOr/edit?usp=drive_web&ouid=108715504237390584810&rtpof=true__;!!LQC6Cpwp!pSkpC6ISJbFfqwcfslZJ7BuN8v6lLfkzjW9p89ftHMxpewmu9BDC5hzm9yNVy4TXqFxQwVqOa2iKw9CcEsPbBKegeFFXt6ibTkI$>))\n",
    "    - [DHIS2 Overview](<https://dhis2.org/overview/>), [Data Quality](<https://docs.dhis2.org/en/use/user-guides/dhis-core-version-241/collecting-data/data-quality.html>), [Configuration](<https://docs.dhis2.org/en/use/user-guides/dhis-core-version-241/configuring-the-system/metadata.html>) \n",
    "    - [DHIS2 Tracker](<https://dhis2.org/tracker/>) and [Android Capture App](<https://dhis2.org/android/>)"
   ]
  },
  {
   "cell_type": "markdown",
   "metadata": {},
   "source": [
    "---"
   ]
  },
  {
   "cell_type": "markdown",
   "metadata": {},
   "source": [
    "### Unit 5 Resources"
   ]
  },
  {
   "cell_type": "markdown",
   "metadata": {},
   "source": [
    "- Sierra Leone National Digital Health Strategy 2018-2023\n",
    "- [Technical Guidelines for IDSR, Section 9: Electronic Integrated Disease Surveillance and Response (eIDSR)](<https://drive.google.com/drive/folders/16c5WWaa4av1LiCJgj1YN7hlwHyMOkhSr;!!LQC6Cpwp!pSkpC6ISJbFfqwcfslZJ7BuN8v6lLfkzjW9p89ftHMxpewmu9BDC5hzm9yNVy4TXqFxQwVqOa2iKw9CcEsPbBKegeFFXwoJvRkI$>)\n",
    "- DHIS2 \n",
    "    - [Global Good Guidebook entry](<https://urldefense.com/v3/__https:/globalgoodsguidebook.org/global-goods/dhis2/__;!!LQC6Cpwp!pSkpC6ISJbFfqwcfslZJ7BuN8v6lLfkzjW9p89ftHMxpewmu9BDC5hzm9yNVy4TXqFxQwVqOa2iKw9CcEsPbBKegeFFXb790qb8$>)\n",
    "    - Digital Public Good Registry entry\n",
    "    - DHIS2 Data Dictionary ([data elements](<https://urldefense.com/v3/__https:/docs.google.com/spreadsheets/d/1d0ZII5z_DCTmb8LuiV4oqaKaHmissjVC/edit?usp=drive_web&ouid=108715504237390584810&rtpof=true__;!!LQC6Cpwp!pSkpC6ISJbFfqwcfslZJ7BuN8v6lLfkzjW9p89ftHMxpewmu9BDC5hzm9yNVy4TXqFxQwVqOa2iKw9CcEsPbBKegeFFXgR-Fw1I$>), [options](<https://urldefense.com/v3/__https:/docs.google.com/spreadsheets/d/12yJ6FGxzaQkuzP9Yn-vbtsnYUZzU5Agc/edit?usp=drive_web&ouid=108715504237390584810&rtpof=true__;!!LQC6Cpwp!pSkpC6ISJbFfqwcfslZJ7BuN8v6lLfkzjW9p89ftHMxpewmu9BDC5hzm9yNVy4TXqFxQwVqOa2iKw9CcEsPbBKegeFFXiG19cwE$>), and [option sets for measles](<https://urldefense.com/v3/__https:/docs.google.com/spreadsheets/d/1Ye3VuO82S6pMH6AguM8pLM0YK_U01iOr/edit?usp=drive_web&ouid=108715504237390584810&rtpof=true__;!!LQC6Cpwp!pSkpC6ISJbFfqwcfslZJ7BuN8v6lLfkzjW9p89ftHMxpewmu9BDC5hzm9yNVy4TXqFxQwVqOa2iKw9CcEsPbBKegeFFXt6ibTkI$>))\n",
    "    - [DHIS2 Overview](<https://dhis2.org/overview/>), [Data Quality](<https://docs.dhis2.org/en/use/user-guides/dhis-core-version-241/collecting-data/data-quality.html>), [Configuration](<https://docs.dhis2.org/en/use/user-guides/dhis-core-version-241/configuring-the-system/metadata.html>) \n",
    "    - [DHIS2 Tracker](<https://dhis2.org/tracker/>) and [Android Capture App](<https://dhis2.org/android/>)\n",
    "- [Unit 5: Measles New Cases](<https://docs.google.com/spreadsheets/d/1DTnNEDfVQoG7zOFOv5fh4QIcXZ9N23OGlG06TUD7cEw/edit?gid=0#gid=0>)\n",
    "- DHIS2 Import Template\n",
    "- [DHIS2 Line Listing Video Playlist](<https://youtube.com/playlist?list=PLo6Seh-066Rx5BXFCBKs6pRtuRnJTpXEN&si=PcKcfr0p7otuGuar>)\n",
    "- Scribe: [How to Access and Update Program Data in DHIS2](<https://scribehow.com/shared/Guide_to_accessing_and_updating_program_data__qtelbu3_QxOK3ry6-3yVEA>)"
   ]
  },
  {
   "cell_type": "markdown",
   "metadata": {},
   "source": [
    "### Unit 6, 7 and 8 Resources"
   ]
  },
  {
   "cell_type": "markdown",
   "metadata": {},
   "source": [
    "- Sierra Leone National Digital Health Strategy 2018-2023\n",
    "- [Technical Guidelines for IDSR, Section 9: Electronic Integrated Disease Surveillance and Response (eIDSR)](<https://drive.google.com/drive/folders/16c5WWaa4av1LiCJgj1YN7hlwHyMOkhSr;!!LQC6Cpwp!pSkpC6ISJbFfqwcfslZJ7BuN8v6lLfkzjW9p89ftHMxpewmu9BDC5hzm9yNVy4TXqFxQwVqOa2iKw9CcEsPbBKegeFFXwoJvRkI$>)\n",
    "- DHIS2 \n",
    "    - [Global Good Guidebook entry](<https://urldefense.com/v3/__https:/globalgoodsguidebook.org/global-goods/dhis2/__;!!LQC6Cpwp!pSkpC6ISJbFfqwcfslZJ7BuN8v6lLfkzjW9p89ftHMxpewmu9BDC5hzm9yNVy4TXqFxQwVqOa2iKw9CcEsPbBKegeFFXb790qb8$>)\n",
    "    - Digital Public Good Registry entry\n",
    "    - DHIS2 Data Dictionary ([data elements](<https://urldefense.com/v3/__https:/docs.google.com/spreadsheets/d/1d0ZII5z_DCTmb8LuiV4oqaKaHmissjVC/edit?usp=drive_web&ouid=108715504237390584810&rtpof=true__;!!LQC6Cpwp!pSkpC6ISJbFfqwcfslZJ7BuN8v6lLfkzjW9p89ftHMxpewmu9BDC5hzm9yNVy4TXqFxQwVqOa2iKw9CcEsPbBKegeFFXgR-Fw1I$>), [options](<https://urldefense.com/v3/__https:/docs.google.com/spreadsheets/d/12yJ6FGxzaQkuzP9Yn-vbtsnYUZzU5Agc/edit?usp=drive_web&ouid=108715504237390584810&rtpof=true__;!!LQC6Cpwp!pSkpC6ISJbFfqwcfslZJ7BuN8v6lLfkzjW9p89ftHMxpewmu9BDC5hzm9yNVy4TXqFxQwVqOa2iKw9CcEsPbBKegeFFXiG19cwE$>), and [option sets for measles](<https://urldefense.com/v3/__https:/docs.google.com/spreadsheets/d/1Ye3VuO82S6pMH6AguM8pLM0YK_U01iOr/edit?usp=drive_web&ouid=108715504237390584810&rtpof=true__;!!LQC6Cpwp!pSkpC6ISJbFfqwcfslZJ7BuN8v6lLfkzjW9p89ftHMxpewmu9BDC5hzm9yNVy4TXqFxQwVqOa2iKw9CcEsPbBKegeFFXt6ibTkI$>))\n",
    "    - [DHIS2 Overview](<https://dhis2.org/overview/>), [Data Quality](<https://docs.dhis2.org/en/use/user-guides/dhis-core-version-241/collecting-data/data-quality.html>), [Configuration](<https://docs.dhis2.org/en/use/user-guides/dhis-core-version-241/configuring-the-system/metadata.html>) \n",
    "\n",
    "#### See unit 6, 7 and 8 video resources below\n"
   ]
  },
  {
   "cell_type": "markdown",
   "metadata": {},
   "source": [
    "- [DHIS2 Line Listing Video Playlist](<https://youtube.com/playlist?list=PLo6Seh-066Rx5BXFCBKs6pRtuRnJTpXEN&si=PcKcfr0p7otuGuar>)\n",
    "\n",
    "<iframe class=\"video\" width=\"800px\" height=\"480px\"\n",
    "        src=\"https://www.youtube.com/embed/videoseries?list=PLo6Seh-066Rx5BXFCBKs6pRtuRnJTpXEN\"\n",
    "        frameborder=\"0\" allow=\"accelerometer; autoplay; clipboard-write; encrypted-media; gyroscope; picture-in-picture\" allowfullscreen>\n",
    "</iframe>\n"
   ]
  },
  {
   "cell_type": "markdown",
   "metadata": {},
   "source": [
    "- [DHIS2 Data Analysis Video Playlist](<https://youtube.com/playlist?list=PLo6Seh-066RzR6LP9VFLllKBu5atIR0pZ&si=b96ln0XRV9lIkrew>)\n",
    "\n",
    "<iframe class=\"video\" width=\"800px\" height=\"480px\"\n",
    "        src=\"https://www.youtube.com/embed/videoseries?list=PLo6Seh-066RzR6LP9VFLllKBu5atIR0pZ\"\n",
    "        frameborder=\"0\" allow=\"accelerometer; autoplay; clipboard-write; encrypted-media; gyroscope; picture-in-picture\" allowfullscreen>\n",
    "</iframe>"
   ]
  },
  {
   "cell_type": "markdown",
   "metadata": {},
   "source": [
    "- [Joint Analysis of Event & Aggregate Data (Part 1)](<https://youtu.be/fuW8ykQZRVs?si=BCZRbhxdp4cRIcCL>)\n",
    "\n",
    "<iframe class=\"video\" width=\"800px\" height=\"480px\"\n",
    "        src=\"https://www.youtube.com/embed/fuW8ykQZRVs?rel=0\"\n",
    "        allowfullscreen></iframe>\n"
   ]
  },
  {
   "cell_type": "markdown",
   "metadata": {},
   "source": [
    "- [Joint Analysis of Event & Aggregate Data - Pivot Table](<https://youtu.be/QCsvYR3iw9A?si=XxmNPGEU-kkLlgRK>)\n",
    "\n",
    "\n",
    "<iframe class=\"video\" width=\"800px\" height=\"480px\"\n",
    "        src=\"https://www.youtube.com/embed/QCsvYR3iw9A?rel=0\"\n",
    "        allowfullscreen></iframe>"
   ]
  },
  {
   "cell_type": "markdown",
   "metadata": {},
   "source": [
    "- [Joint Analysis of Event & Aggregate Data - Line Graph](<https://www.youtube.com/watch?v=h0tKK_P_BbU>)\n",
    "\n",
    "<iframe class=\"video\" width=\"800px\" height=\"480px\"\n",
    "        src=\"https://www.youtube.com/embed/h0tKK_P_BbU?rel=0\"\n",
    "        allowfullscreen></iframe>"
   ]
  },
  {
   "cell_type": "markdown",
   "metadata": {},
   "source": [
    "- [Joint Analysis of Event & Aggregate Data - Maps](<https://youtu.be/GZAC0f1Wkqw?si=lPL8dFSt-V4SaZI->)\n",
    "\n",
    "<iframe class=\"video\" width=\"800px\" height=\"480px\"\n",
    "        src=\"https://www.youtube.com/embed/GZAC0f1Wkqw?rel=0\"\n",
    "        allowfullscreen></iframe>"
   ]
  },
  {
   "cell_type": "markdown",
   "metadata": {},
   "source": [
    "---"
   ]
  },
  {
   "cell_type": "markdown",
   "metadata": {},
   "source": [
    "### Additional Resources"
   ]
  },
  {
   "cell_type": "markdown",
   "metadata": {},
   "source": [
    "**[Introduction to R for Field Epidemiologists](<https://www.train.org/cdctrain/course/1111964/details?activeTab=reviews>)**  - this course provides an introduction to R, a language for statistical analysis, with a focus on practical applications for field epidemiologists."
   ]
  }
 ],
 "metadata": {
  "finalized": {
   "timestamp": 1617199748724,
   "trusted": true
  },
  "kernelspec": {
   "display_name": "FETP_venv",
   "language": "python",
   "name": "python3"
  },
  "language_info": {
   "codemirror_mode": {
    "name": "ipython",
    "version": 3
   },
   "file_extension": ".py",
   "mimetype": "text/x-python",
   "name": "python",
   "nbconvert_exporter": "python",
   "pygments_lexer": "ipython3",
   "version": "3.12.4"
  }
 },
 "nbformat": 4,
 "nbformat_minor": 4
}
