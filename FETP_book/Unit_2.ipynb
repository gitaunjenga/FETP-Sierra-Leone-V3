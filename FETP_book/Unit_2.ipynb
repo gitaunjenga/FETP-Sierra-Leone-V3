{
 "cells": [
  {
   "cell_type": "markdown",
   "metadata": {
    "tags": [],
    "user_expressions": []
   },
   "source": [
    "# Unit 2: Using Informatics Principles, Systems, and Tools for Surveillance"
   ]
  },
  {
   "cell_type": "markdown",
   "metadata": {},
   "source": [
    "<div class=\"admonition\">\n",
    "<div style=\"background-color: #c2c5f2; padding: 0.2em; border-radius: 5px; color: black; display: flex; align-items: center;\">\n",
    "    <i style=\"margin-right: 0.5em;\">🔍</i>\n",
    "    <b>Laila’s Surveillance Data & Analysis Problems</b>\n",
    "</div>\n",
    "\n",
    "<p>Laila must provide her supervisor with a summary surveillance report on the current status of TB in her district.</p>\n",
    "What gets in her way:\n",
    "<ul>\n",
    "  <li>Data collection and reporting can be unorganized, uncoordinated, and delayed.</li>\n",
    "  <li>Usefulness of the data she has is limited because key variables and data are missing.</li>\n",
    "  <li>Data from different sources is stored in multiple databases that must be merged.</li>\n",
    "  <li>Unclear if the results are due to an actual increase in cases or other factors.</li>\n",
    "</ul>\n",
    "\n",
    "</div>"
   ]
  },
  {
   "cell_type": "markdown",
   "metadata": {},
   "source": [
    "### Goals"
   ]
  },
  {
   "cell_type": "markdown",
   "metadata": {},
   "source": [
    "- Re-use data from existing information systems to detect, diagnose, and respond to outbreaks\n",
    "- Use common software features and functions to explore, describe, and prepare data for analysis\n",
    "- Identify and use software features and functions to detect and address data quality issues\n",
    "- Apply informatics standards and software features to organize and analyze surveillance data\n",
    "- Use basic data visualization and reporting features to prepare a surveillance summary report."
   ]
  },
  {
   "cell_type": "markdown",
   "metadata": {},
   "source": [
    "### Introduction"
   ]
  },
  {
   "cell_type": "markdown",
   "metadata": {},
   "source": [
    "**Applying Informatics to enhance Sierra Leone’s Surveillance System and Health Information System**"
   ]
  },
  {
   "cell_type": "markdown",
   "metadata": {},
   "source": [
    "The application of informatics, specifically electronic tools, is considered a platform for enhancing both real-time,\n",
    "public health surveillance as well as health service provision. In both surveillance systems and health information systems,\n",
    "source data is derived from health facility registers, laboratory registers, and weekly or monthly reports. "
   ]
  },
  {
   "cell_type": "markdown",
   "metadata": {},
   "source": [
    "In Sierra Leone, the application of informatics to the existing surveillance system is based on:\n",
    "- standardized interoperable and interconnected information systems used within the national context\n",
    "- rapid collection, analysis, reporting, and use of disease/events data in real-time for the right public health action.\n"
   ]
  },
  {
   "cell_type": "markdown",
   "metadata": {},
   "source": [
    "Rationale for applying informatics to the surveillance system and health information system:\n",
    "- Fulfills regional committee recommendations on the use of information technology\n",
    "- Improves data quality\n",
    "- Assists with:\n",
    "- data standardization\n",
    "- early detection, investigation, and response to outbreaks\n",
    "- Reduces manual data entry\n",
    "- Ensures systematic information sharing across levels and sectors\n",
    "- enables better data transmission and management, including data storage and access\n",
    "- Enhances virtual, near real-time disease monitoring capability\n",
    "- Easily generates automated alerts\n",
    "- Reduces system costs\n"
   ]
  },
  {
   "cell_type": "markdown",
   "metadata": {},
   "source": [
    "According to the 2021 Sierra Leone Health Information System (HIS) Policy, DHIS2 is the backbone of Sierra Leone’s HIS. It has served as the country’s electronic Integrated Disease Surveillance and Response (e-IDSR) since October 2016. \n",
    "\n",
    "Integration of DHIS2 software with Open MRS software permitted the development of a basic hospital information system, implementations of case-based disease surveillance systems (i.e., DHIS2 Tracker) for HIV and IDSR cased-based system (eCBDS). A HIV Tracker is being piloted at several health facilities and the eCBDS Tracker has been rolled out nationwide. Community health information management has been integrated into the HMIS tools and as a result no standalone Community Health Information System (CHIS) exists. There is a national Logistics Management Information Systems (LMIS) platform for health logistics and commodities management and iHRIS for health workforce management. Three application esystems making up the LMIS are mSupply, Pharmaceutical Dashboard, and Channel. The RRIV forms have been fully integrated into DHIS2 and all districts are now entering data into DHIS2."
   ]
  },
  {
   "cell_type": "markdown",
   "metadata": {},
   "source": [
    "### Unit Slides"
   ]
  },
  {
   "cell_type": "markdown",
   "metadata": {},
   "source": [
    "<iframe class=\"slides\" width=\"800px\" height=\"480px\"\n",
    "        src=\"https://docs.google.com/presentation/d/14U_f-y-V-zZSe9us0gpi8iD01BaPnD4U/embed?start=false&loop=false&delayms=3000\" frameborder=\"0\" width=\"100%\" height=\"500\" allowfullscreen=\"true\" mozallowfullscreen=\"true\" webkitallowfullscreen=\"true\"></iframe>"
   ]
  },
  {
   "cell_type": "markdown",
   "metadata": {},
   "source": [
    "### Case Study Assignment "
   ]
  },
  {
   "cell_type": "markdown",
   "metadata": {},
   "source": [
    "Your report will need to answer the following key questions:\n",
    "- How many cases were detected? Has the epidemic threshold for measles been crossed?\n",
    "- Where did the cases occur?\n",
    "- Who is affected? \n",
    "- Is the increase due to an outbreak? Is there another explanation for the increase in reported cases?"
   ]
  }
 ],
 "metadata": {
  "finalized": {
   "timestamp": 1617199748724,
   "trusted": true
  },
  "kernelspec": {
   "display_name": "FETP_venv",
   "language": "python",
   "name": "python3"
  },
  "language_info": {
   "codemirror_mode": {
    "name": "ipython",
    "version": 3
   },
   "file_extension": ".py",
   "mimetype": "text/x-python",
   "name": "python",
   "nbconvert_exporter": "python",
   "pygments_lexer": "ipython3",
   "version": "3.12.4"
  }
 },
 "nbformat": 4,
 "nbformat_minor": 4
}
