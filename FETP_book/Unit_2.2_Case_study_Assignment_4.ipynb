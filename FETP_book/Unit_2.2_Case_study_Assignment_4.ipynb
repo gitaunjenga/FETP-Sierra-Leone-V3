{
 "cells": [
  {
   "cell_type": "markdown",
   "metadata": {
    "tags": [],
    "user_expressions": []
   },
   "source": [
    "# Case Study Assignment 4"
   ]
  },
  {
   "cell_type": "markdown",
   "metadata": {},
   "source": [
    "DHIS2 is still offline. Using the measles dataset in Excel and the DHIS2 data dictionary, prepare your dataset for analysis by cleaning and transforming any data.\n"
   ]
  },
  {
   "cell_type": "markdown",
   "metadata": {},
   "source": [
    "---"
   ]
  },
  {
   "cell_type": "markdown",
   "metadata": {},
   "source": [
    "Use the next 30 minutes to respond to Questions 6 & 7 using Excel and your data dictionary:"
   ]
  },
  {
   "cell_type": "markdown",
   "metadata": {},
   "source": [
    "- Review your dataset and identify data quality problems\n",
    "- Outline the steps to take to fix each problem\n",
    "- Fix identified data quality issues \n",
    "\n",
    "Be prepared to share your work "
   ]
  },
  {
   "cell_type": "markdown",
   "metadata": {},
   "source": [
    "---"
   ]
  },
  {
   "cell_type": "markdown",
   "metadata": {},
   "source": [
    "**Questions**"
   ]
  },
  {
   "cell_type": "markdown",
   "metadata": {},
   "source": [
    "6. What types of data quality problems are present in your dataset? \n"
   ]
  },
  {
   "cell_type": "markdown",
   "metadata": {},
   "source": [
    "7. For each problem identified in Question 6, describe the steps you will take to address each one. Then use Excel to fix as many of the data quality problems you identified.\n"
   ]
  },
  {
   "cell_type": "markdown",
   "metadata": {},
   "source": [
    "---"
   ]
  },
  {
   "cell_type": "markdown",
   "metadata": {},
   "source": [
    "> **Please submit your answers using the form provided below**"
   ]
  },
  {
   "cell_type": "markdown",
   "metadata": {},
   "source": [
    "<iframe class=\"form\" width=\"640px\" height=\"480px\"\n",
    "        src=\"https://docs.google.com/forms/d/e/1FAIpQLSfqinUTAS0FxOcYN-xg1S0xQ2EsCnsh23B-MuAvKFMenDRwVQ/viewform?embedded=true\"\n",
    "        allowfullscreen></iframe>"
   ]
  }
 ],
 "metadata": {
  "finalized": {
   "timestamp": 1617199748724,
   "trusted": true
  },
  "kernelspec": {
   "display_name": "FETP_venv",
   "language": "python",
   "name": "python3"
  },
  "language_info": {
   "codemirror_mode": {
    "name": "ipython",
    "version": 3
   },
   "file_extension": ".py",
   "mimetype": "text/x-python",
   "name": "python",
   "nbconvert_exporter": "python",
   "pygments_lexer": "ipython3",
   "version": "3.12.4"
  }
 },
 "nbformat": 4,
 "nbformat_minor": 4
}
