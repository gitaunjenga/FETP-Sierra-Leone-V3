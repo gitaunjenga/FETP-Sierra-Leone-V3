{
 "cells": [
  {
   "cell_type": "markdown",
   "metadata": {
    "tags": [],
    "user_expressions": []
   },
   "source": [
    "# Assignment 1"
   ]
  },
  {
   "cell_type": "markdown",
   "metadata": {},
   "source": [
    "According to the 2021 Sierra Leone Health Information System (HIS) Policy, DHIS2 is the backbone of Sierra Leone’s HIS, with data from multiple health program platforms now shared and housed within DHIS2. It has served as the country’s electronic Integrated Disease Surveillance and Response (e-IDSR) since October 2016. "
   ]
  },
  {
   "cell_type": "markdown",
   "metadata": {},
   "source": [
    "Use the DHIS2 Capture Android App demo, DHIS2 assessments, and DHIS2 documentation to review and assess its data collection capabilities. "
   ]
  },
  {
   "cell_type": "markdown",
   "metadata": {},
   "source": [
    "---"
   ]
  },
  {
   "cell_type": "markdown",
   "metadata": {},
   "source": [
    "#### Questions"
   ]
  },
  {
   "cell_type": "markdown",
   "metadata": {},
   "source": [
    "1. Describe the DHIS2 Tracker/Android Capture App features that support data collection for surveillance and outbreak investigation. \n",
    "\n",
    "    -  What data elements are captured? Which ones are required? What response options are used? Are any skip patterns used?\n"
   ]
  },
  {
   "cell_type": "markdown",
   "metadata": {},
   "source": [
    "> **Please submit your answers using the form provided below**"
   ]
  },
  {
   "cell_type": "markdown",
   "metadata": {
    "vscode": {
     "languageId": "plaintext"
    }
   },
   "source": [
    "<iframe class=\"form\" width=\"700px\" height=\"600px\"\n",
    "        src=\"https://docs.google.com/forms/d/e/1FAIpQLSe0f86QcRJMmmYyC3Zb2qcjhDhk7nOjdxp-Xsfgy1_fGy-nyg/viewform?embedded=true\"\n",
    "        allowfullscreen></iframe>"
   ]
  },
  {
   "cell_type": "markdown",
   "metadata": {},
   "source": [
    "---"
   ]
  },
  {
   "cell_type": "markdown",
   "metadata": {},
   "source": [
    "#### Resources"
   ]
  },
  {
   "cell_type": "markdown",
   "metadata": {},
   "source": [
    "- [Technical Guidelines for IDSR, Section 11](<https://drive.google.com/drive/folders/16c5WWaa4av1LiCJgj1YN7hlwHyMOkhSr;!!LQC6Cpwp!pSkpC6ISJbFfqwcfslZJ7BuN8v6lLfkzjW9p89ftHMxpewmu9BDC5hzm9yNVy4TXqFxQwVqOa2iKw9CcEsPbBKegeFFXwoJvRkI$>)\n",
    "- DHIS2 \n",
    "    - [Global Good Guidebook entry](<https://urldefense.com/v3/__https:/globalgoodsguidebook.org/global-goods/dhis2/__;!!LQC6Cpwp!pSkpC6ISJbFfqwcfslZJ7BuN8v6lLfkzjW9p89ftHMxpewmu9BDC5hzm9yNVy4TXqFxQwVqOa2iKw9CcEsPbBKegeFFXb790qb8$>)\n",
    "    - Digital Public Good Registry entry\n",
    "    - DHIS2 Data Dictionary ([data elements](<https://urldefense.com/v3/__https:/docs.google.com/spreadsheets/d/1d0ZII5z_DCTmb8LuiV4oqaKaHmissjVC/edit?usp=drive_web&ouid=108715504237390584810&rtpof=true__;!!LQC6Cpwp!pSkpC6ISJbFfqwcfslZJ7BuN8v6lLfkzjW9p89ftHMxpewmu9BDC5hzm9yNVy4TXqFxQwVqOa2iKw9CcEsPbBKegeFFXgR-Fw1I$>), [options](<https://urldefense.com/v3/__https:/docs.google.com/spreadsheets/d/12yJ6FGxzaQkuzP9Yn-vbtsnYUZzU5Agc/edit?usp=drive_web&ouid=108715504237390584810&rtpof=true__;!!LQC6Cpwp!pSkpC6ISJbFfqwcfslZJ7BuN8v6lLfkzjW9p89ftHMxpewmu9BDC5hzm9yNVy4TXqFxQwVqOa2iKw9CcEsPbBKegeFFXiG19cwE$>), and [option sets for measles](<https://urldefense.com/v3/__https:/docs.google.com/spreadsheets/d/1Ye3VuO82S6pMH6AguM8pLM0YK_U01iOr/edit?usp=drive_web&ouid=108715504237390584810&rtpof=true__;!!LQC6Cpwp!pSkpC6ISJbFfqwcfslZJ7BuN8v6lLfkzjW9p89ftHMxpewmu9BDC5hzm9yNVy4TXqFxQwVqOa2iKw9CcEsPbBKegeFFXt6ibTkI$>))\n",
    "    - [DHIS2 Overview](<https://dhis2.org/overview/>), [Data Quality](<https://docs.dhis2.org/en/use/user-guides/dhis-core-version-241/collecting-data/data-quality.html>), [Configuration](<https://docs.dhis2.org/en/use/user-guides/dhis-core-version-241/configuring-the-system/metadata.html>) \n",
    "    - [DHIS2 Tracker](<https://dhis2.org/tracker/>) and [Android Capture App](<https://dhis2.org/android/>)"
   ]
  }
 ],
 "metadata": {
  "finalized": {
   "timestamp": 1617199748724,
   "trusted": true
  },
  "kernelspec": {
   "display_name": "FETP_venv",
   "language": "python",
   "name": "python3"
  },
  "language_info": {
   "codemirror_mode": {
    "name": "ipython",
    "version": 3
   },
   "file_extension": ".py",
   "mimetype": "text/x-python",
   "name": "python",
   "nbconvert_exporter": "python",
   "pygments_lexer": "ipython3",
   "version": "3.12.4"
  }
 },
 "nbformat": 4,
 "nbformat_minor": 4
}
