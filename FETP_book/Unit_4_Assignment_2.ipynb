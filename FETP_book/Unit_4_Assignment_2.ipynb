{
 "cells": [
  {
   "cell_type": "markdown",
   "metadata": {
    "tags": [],
    "user_expressions": []
   },
   "source": [
    "# Assignment 2"
   ]
  },
  {
   "cell_type": "markdown",
   "metadata": {},
   "source": [
    "#### Questions"
   ]
  },
  {
   "cell_type": "markdown",
   "metadata": {},
   "source": [
    "2. What modifications to DHIS2, if any, will need to be made in order to collect or generate the data you need for your outbreak investigation?\n",
    "\n",
    "3. Describe actions you can take to have these modifications made in DHIS2."
   ]
  },
  {
   "cell_type": "markdown",
   "metadata": {},
   "source": [
    "> **Please submit your answers using the form provided below**"
   ]
  },
  {
   "cell_type": "markdown",
   "metadata": {},
   "source": [
    "<iframe class=\"form\" width=\"700px\" height=\"600px\"\n",
    "        src=\"https://docs.google.com/forms/d/e/1FAIpQLSfeqUq75e8Gtq2tMcFpHa4VS3QVut4T_ZIQoU2sLS6TWGFhbg/viewform?embedded=true\"\n",
    "        allowfullscreen></iframe>"
   ]
  }
 ],
 "metadata": {
  "finalized": {
   "timestamp": 1617199748724,
   "trusted": true
  },
  "kernelspec": {
   "display_name": "FETP_venv",
   "language": "python",
   "name": "python3"
  },
  "language_info": {
   "codemirror_mode": {
    "name": "ipython",
    "version": 3
   },
   "file_extension": ".py",
   "mimetype": "text/x-python",
   "name": "python",
   "nbconvert_exporter": "python",
   "pygments_lexer": "ipython3",
   "version": "3.12.4"
  }
 },
 "nbformat": 4,
 "nbformat_minor": 4
}
