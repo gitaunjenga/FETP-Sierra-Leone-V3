{
 "cells": [
  {
   "cell_type": "markdown",
   "metadata": {
    "tags": [],
    "user_expressions": []
   },
   "source": [
    "# Unit 3: Design and Plan for Action"
   ]
  },
  {
   "cell_type": "markdown",
   "metadata": {},
   "source": [
    "### Using Informatics to Design and Plan Your Outbreak Investigation"
   ]
  },
  {
   "cell_type": "markdown",
   "metadata": {},
   "source": [
    "#### Learning Objectives"
   ]
  },
  {
   "cell_type": "markdown",
   "metadata": {},
   "source": [
    "- Identify existing information systems that collect data used for outbreak investigations\n",
    "- Evaluate appropriate, locally used data collection tools based on the specific outbreak and available resources\n",
    "- Ascertain the data collected by selected information system applications are fit for purpose\n",
    "- Identify and describe how informatics standards will be used to improve data collection and analysis\n",
    "- Identify the data quality software features that will be used during data collection and analysis\n",
    "- Describe data security standards and sharing policies to follow during an outbreak investigation. \n"
   ]
  },
  {
   "cell_type": "markdown",
   "metadata": {},
   "source": [
    "#### Unit Slides"
   ]
  },
  {
   "cell_type": "markdown",
   "metadata": {},
   "source": [
    "<iframe class=\"slides\" width=\"800px\" height=\"480px\"\n",
    "        src=\"https://docs.google.com/presentation/d/1eun70sVou4BUjGVkoIo8RiazdLErrnjj/embed?start=false&loop=false&delayms=3000\" frameborder=\"0\" width=\"100%\" height=\"500\" allowfullscreen=\"true\" mozallowfullscreen=\"true\" webkitallowfullscreen=\"true\"></iframe>"
   ]
  }
 ],
 "metadata": {
  "finalized": {
   "timestamp": 1617199748724,
   "trusted": true
  },
  "kernelspec": {
   "display_name": "FETP_venv",
   "language": "python",
   "name": "python3"
  },
  "language_info": {
   "codemirror_mode": {
    "name": "ipython",
    "version": 3
   },
   "file_extension": ".py",
   "mimetype": "text/x-python",
   "name": "python",
   "nbconvert_exporter": "python",
   "pygments_lexer": "ipython3",
   "version": "3.12.4"
  }
 },
 "nbformat": 4,
 "nbformat_minor": 4
}
